{
 "cells": [
  {
   "cell_type": "code",
   "execution_count": 1,
   "id": "aded7eb8",
   "metadata": {
    "execution": {
     "iopub.execute_input": "2024-08-17T07:22:03.071253Z",
     "iopub.status.busy": "2024-08-17T07:22:03.070907Z",
     "iopub.status.idle": "2024-08-17T07:22:16.633590Z",
     "shell.execute_reply": "2024-08-17T07:22:16.632649Z"
    },
    "papermill": {
     "duration": 13.583158,
     "end_time": "2024-08-17T07:22:16.636055",
     "exception": false,
     "start_time": "2024-08-17T07:22:03.052897",
     "status": "completed"
    },
    "tags": []
   },
   "outputs": [
    {
     "name": "stdout",
     "output_type": "stream",
     "text": [
      "Collecting python-whois\r\n",
      "  Downloading python_whois-0.9.4-py3-none-any.whl.metadata (2.6 kB)\r\n",
      "Requirement already satisfied: python-dateutil in /opt/conda/lib/python3.10/site-packages (from python-whois) (2.9.0.post0)\r\n",
      "Requirement already satisfied: six>=1.5 in /opt/conda/lib/python3.10/site-packages (from python-dateutil->python-whois) (1.16.0)\r\n",
      "Downloading python_whois-0.9.4-py3-none-any.whl (103 kB)\r\n",
      "\u001b[2K   \u001b[90m━━━━━━━━━━━━━━━━━━━━━━━━━━━━━━━━━━━━━━━━\u001b[0m \u001b[32m103.3/103.3 kB\u001b[0m \u001b[31m2.9 MB/s\u001b[0m eta \u001b[36m0:00:00\u001b[0m\r\n",
      "\u001b[?25hInstalling collected packages: python-whois\r\n",
      "Successfully installed python-whois-0.9.4\r\n"
     ]
    }
   ],
   "source": [
    "!pip install python-whois"
   ]
  },
  {
   "cell_type": "code",
   "execution_count": 2,
   "id": "8c95902b",
   "metadata": {
    "_cell_guid": "b1076dfc-b9ad-4769-8c92-a6c4dae69d19",
    "_uuid": "8f2839f25d086af736a60e9eeb907d3b93b6e0e5",
    "execution": {
     "iopub.execute_input": "2024-08-17T07:22:16.671652Z",
     "iopub.status.busy": "2024-08-17T07:22:16.671339Z",
     "iopub.status.idle": "2024-08-17T07:22:18.730958Z",
     "shell.execute_reply": "2024-08-17T07:22:18.729829Z"
    },
    "papermill": {
     "duration": 2.081,
     "end_time": "2024-08-17T07:22:18.734500",
     "exception": false,
     "start_time": "2024-08-17T07:22:16.653500",
     "status": "completed"
    },
    "tags": []
   },
   "outputs": [],
   "source": [
    "import pandas as pd\n",
    "import numpy as np\n",
    "import os\n",
    "import shutil\n",
    "import matplotlib.pyplot as plt\n",
    "import seaborn as sns\n",
    "from urllib.parse import urlencode, urlparse\n",
    "import ipaddress\n",
    "import re\n",
    "import whois"
   ]
  },
  {
   "cell_type": "code",
   "execution_count": 3,
   "id": "48f7b1f2",
   "metadata": {
    "execution": {
     "iopub.execute_input": "2024-08-17T07:22:18.780428Z",
     "iopub.status.busy": "2024-08-17T07:22:18.779305Z",
     "iopub.status.idle": "2024-08-17T07:22:20.339940Z",
     "shell.execute_reply": "2024-08-17T07:22:20.338928Z"
    },
    "papermill": {
     "duration": 1.584489,
     "end_time": "2024-08-17T07:22:20.342224",
     "exception": false,
     "start_time": "2024-08-17T07:22:18.757735",
     "status": "completed"
    },
    "tags": []
   },
   "outputs": [
    {
     "data": {
      "text/html": [
       "<div>\n",
       "<style scoped>\n",
       "    .dataframe tbody tr th:only-of-type {\n",
       "        vertical-align: middle;\n",
       "    }\n",
       "\n",
       "    .dataframe tbody tr th {\n",
       "        vertical-align: top;\n",
       "    }\n",
       "\n",
       "    .dataframe thead th {\n",
       "        text-align: right;\n",
       "    }\n",
       "</style>\n",
       "<table border=\"1\" class=\"dataframe\">\n",
       "  <thead>\n",
       "    <tr style=\"text-align: right;\">\n",
       "      <th></th>\n",
       "      <th>url</th>\n",
       "      <th>type</th>\n",
       "    </tr>\n",
       "  </thead>\n",
       "  <tbody>\n",
       "    <tr>\n",
       "      <th>0</th>\n",
       "      <td>br-icloud.com.br</td>\n",
       "      <td>phishing</td>\n",
       "    </tr>\n",
       "    <tr>\n",
       "      <th>1</th>\n",
       "      <td>mp3raid.com/music/krizz_kaliko.html</td>\n",
       "      <td>benign</td>\n",
       "    </tr>\n",
       "    <tr>\n",
       "      <th>2</th>\n",
       "      <td>bopsecrets.org/rexroth/cr/1.htm</td>\n",
       "      <td>benign</td>\n",
       "    </tr>\n",
       "    <tr>\n",
       "      <th>3</th>\n",
       "      <td>http://www.garage-pirenne.be/index.php?option=...</td>\n",
       "      <td>defacement</td>\n",
       "    </tr>\n",
       "    <tr>\n",
       "      <th>4</th>\n",
       "      <td>http://adventure-nicaragua.net/index.php?optio...</td>\n",
       "      <td>defacement</td>\n",
       "    </tr>\n",
       "    <tr>\n",
       "      <th>5</th>\n",
       "      <td>http://buzzfil.net/m/show-art/ils-etaient-loin...</td>\n",
       "      <td>benign</td>\n",
       "    </tr>\n",
       "    <tr>\n",
       "      <th>6</th>\n",
       "      <td>espn.go.com/nba/player/_/id/3457/brandon-rush</td>\n",
       "      <td>benign</td>\n",
       "    </tr>\n",
       "    <tr>\n",
       "      <th>7</th>\n",
       "      <td>yourbittorrent.com/?q=anthony-hamilton-soulife</td>\n",
       "      <td>benign</td>\n",
       "    </tr>\n",
       "    <tr>\n",
       "      <th>8</th>\n",
       "      <td>http://www.pashminaonline.com/pure-pashminas</td>\n",
       "      <td>defacement</td>\n",
       "    </tr>\n",
       "    <tr>\n",
       "      <th>9</th>\n",
       "      <td>allmusic.com/album/crazy-from-the-heat-r16990</td>\n",
       "      <td>benign</td>\n",
       "    </tr>\n",
       "  </tbody>\n",
       "</table>\n",
       "</div>"
      ],
      "text/plain": [
       "                                                 url        type\n",
       "0                                   br-icloud.com.br    phishing\n",
       "1                mp3raid.com/music/krizz_kaliko.html      benign\n",
       "2                    bopsecrets.org/rexroth/cr/1.htm      benign\n",
       "3  http://www.garage-pirenne.be/index.php?option=...  defacement\n",
       "4  http://adventure-nicaragua.net/index.php?optio...  defacement\n",
       "5  http://buzzfil.net/m/show-art/ils-etaient-loin...      benign\n",
       "6      espn.go.com/nba/player/_/id/3457/brandon-rush      benign\n",
       "7     yourbittorrent.com/?q=anthony-hamilton-soulife      benign\n",
       "8       http://www.pashminaonline.com/pure-pashminas  defacement\n",
       "9      allmusic.com/album/crazy-from-the-heat-r16990      benign"
      ]
     },
     "execution_count": 3,
     "metadata": {},
     "output_type": "execute_result"
    }
   ],
   "source": [
    "df = pd.read_csv('/kaggle/input/malicious-urls-dataset/malicious_phish.csv')\n",
    "df.head(10)"
   ]
  },
  {
   "cell_type": "code",
   "execution_count": 4,
   "id": "89ece921",
   "metadata": {
    "execution": {
     "iopub.execute_input": "2024-08-17T07:22:20.381665Z",
     "iopub.status.busy": "2024-08-17T07:22:20.381318Z",
     "iopub.status.idle": "2024-08-17T07:22:20.501470Z",
     "shell.execute_reply": "2024-08-17T07:22:20.500451Z"
    },
    "papermill": {
     "duration": 0.142683,
     "end_time": "2024-08-17T07:22:20.504034",
     "exception": false,
     "start_time": "2024-08-17T07:22:20.361351",
     "status": "completed"
    },
    "tags": []
   },
   "outputs": [
    {
     "data": {
      "text/html": [
       "<div>\n",
       "<style scoped>\n",
       "    .dataframe tbody tr th:only-of-type {\n",
       "        vertical-align: middle;\n",
       "    }\n",
       "\n",
       "    .dataframe tbody tr th {\n",
       "        vertical-align: top;\n",
       "    }\n",
       "\n",
       "    .dataframe thead th {\n",
       "        text-align: right;\n",
       "    }\n",
       "</style>\n",
       "<table border=\"1\" class=\"dataframe\">\n",
       "  <thead>\n",
       "    <tr style=\"text-align: right;\">\n",
       "      <th></th>\n",
       "      <th>type</th>\n",
       "      <th>count</th>\n",
       "    </tr>\n",
       "  </thead>\n",
       "  <tbody>\n",
       "    <tr>\n",
       "      <th>0</th>\n",
       "      <td>benign</td>\n",
       "      <td>428103</td>\n",
       "    </tr>\n",
       "    <tr>\n",
       "      <th>1</th>\n",
       "      <td>defacement</td>\n",
       "      <td>96457</td>\n",
       "    </tr>\n",
       "    <tr>\n",
       "      <th>2</th>\n",
       "      <td>phishing</td>\n",
       "      <td>94111</td>\n",
       "    </tr>\n",
       "    <tr>\n",
       "      <th>3</th>\n",
       "      <td>malware</td>\n",
       "      <td>32520</td>\n",
       "    </tr>\n",
       "  </tbody>\n",
       "</table>\n",
       "</div>"
      ],
      "text/plain": [
       "         type   count\n",
       "0      benign  428103\n",
       "1  defacement   96457\n",
       "2    phishing   94111\n",
       "3     malware   32520"
      ]
     },
     "execution_count": 4,
     "metadata": {},
     "output_type": "execute_result"
    }
   ],
   "source": [
    "df['type'].value_counts().reset_index()"
   ]
  },
  {
   "cell_type": "code",
   "execution_count": 5,
   "id": "2fcfbcdf",
   "metadata": {
    "execution": {
     "iopub.execute_input": "2024-08-17T07:22:20.542553Z",
     "iopub.status.busy": "2024-08-17T07:22:20.542265Z",
     "iopub.status.idle": "2024-08-17T07:22:20.547667Z",
     "shell.execute_reply": "2024-08-17T07:22:20.546830Z"
    },
    "papermill": {
     "duration": 0.026942,
     "end_time": "2024-08-17T07:22:20.549669",
     "exception": false,
     "start_time": "2024-08-17T07:22:20.522727",
     "status": "completed"
    },
    "tags": []
   },
   "outputs": [
    {
     "data": {
      "text/plain": [
       "(651191, 2)"
      ]
     },
     "execution_count": 5,
     "metadata": {},
     "output_type": "execute_result"
    }
   ],
   "source": [
    "df.shape"
   ]
  },
  {
   "cell_type": "code",
   "execution_count": 6,
   "id": "f02dfd39",
   "metadata": {
    "execution": {
     "iopub.execute_input": "2024-08-17T07:22:20.590152Z",
     "iopub.status.busy": "2024-08-17T07:22:20.589324Z",
     "iopub.status.idle": "2024-08-17T07:22:20.912479Z",
     "shell.execute_reply": "2024-08-17T07:22:20.911479Z"
    },
    "papermill": {
     "duration": 0.34634,
     "end_time": "2024-08-17T07:22:20.914917",
     "exception": false,
     "start_time": "2024-08-17T07:22:20.568577",
     "status": "completed"
    },
    "tags": []
   },
   "outputs": [],
   "source": [
    "df = df.drop(df[df['type'] == 'malware'].index)\n",
    "df = df.drop(df[df['type'] == 'defacement'].index)"
   ]
  },
  {
   "cell_type": "code",
   "execution_count": 7,
   "id": "af7cb896",
   "metadata": {
    "execution": {
     "iopub.execute_input": "2024-08-17T07:22:20.951873Z",
     "iopub.status.busy": "2024-08-17T07:22:20.951527Z",
     "iopub.status.idle": "2024-08-17T07:22:20.957154Z",
     "shell.execute_reply": "2024-08-17T07:22:20.956293Z"
    },
    "papermill": {
     "duration": 0.026042,
     "end_time": "2024-08-17T07:22:20.959137",
     "exception": false,
     "start_time": "2024-08-17T07:22:20.933095",
     "status": "completed"
    },
    "tags": []
   },
   "outputs": [
    {
     "data": {
      "text/plain": [
       "(522214, 2)"
      ]
     },
     "execution_count": 7,
     "metadata": {},
     "output_type": "execute_result"
    }
   ],
   "source": [
    "df.shape"
   ]
  },
  {
   "cell_type": "code",
   "execution_count": 8,
   "id": "8a832b24",
   "metadata": {
    "execution": {
     "iopub.execute_input": "2024-08-17T07:22:20.994734Z",
     "iopub.status.busy": "2024-08-17T07:22:20.994485Z",
     "iopub.status.idle": "2024-08-17T07:22:21.810905Z",
     "shell.execute_reply": "2024-08-17T07:22:21.810038Z"
    },
    "papermill": {
     "duration": 0.836485,
     "end_time": "2024-08-17T07:22:21.812966",
     "exception": false,
     "start_time": "2024-08-17T07:22:20.976481",
     "status": "completed"
    },
    "tags": []
   },
   "outputs": [
    {
     "data": {
      "text/plain": [
       "<Axes: xlabel='type', ylabel='count'>"
      ]
     },
     "execution_count": 8,
     "metadata": {},
     "output_type": "execute_result"
    },
    {
     "data": {
      "image/png": "[encoded data removed]",
      "text/plain": [
       "<Figure size 640x480 with 1 Axes>"
      ]
     },
     "metadata": {},
     "output_type": "display_data"
    }
   ],
   "source": [
    "sns.countplot(df, x = 'type')"
   ]
  },
  {
   "cell_type": "code",
   "execution_count": 9,
   "id": "f6951186",
   "metadata": {
    "execution": {
     "iopub.execute_input": "2024-08-17T07:22:21.849361Z",
     "iopub.status.busy": "2024-08-17T07:22:21.849092Z",
     "iopub.status.idle": "2024-08-17T07:22:21.852934Z",
     "shell.execute_reply": "2024-08-17T07:22:21.852077Z"
    },
    "papermill": {
     "duration": 0.024036,
     "end_time": "2024-08-17T07:22:21.854832",
     "exception": false,
     "start_time": "2024-08-17T07:22:21.830796",
     "status": "completed"
    },
    "tags": []
   },
   "outputs": [],
   "source": [
    "# def havingIP(url):\n",
    "#     try:\n",
    "#         ipaddress.ip_address(url)\n",
    "#         ip = 1\n",
    "#     except:\n",
    "#         ip = 0\n",
    "#     return ip"
   ]
  },
  {
   "cell_type": "code",
   "execution_count": 10,
   "id": "31159d27",
   "metadata": {
    "execution": {
     "iopub.execute_input": "2024-08-17T07:22:21.890868Z",
     "iopub.status.busy": "2024-08-17T07:22:21.890364Z",
     "iopub.status.idle": "2024-08-17T07:22:21.893941Z",
     "shell.execute_reply": "2024-08-17T07:22:21.893114Z"
    },
    "papermill": {
     "duration": 0.023763,
     "end_time": "2024-08-17T07:22:21.895816",
     "exception": false,
     "start_time": "2024-08-17T07:22:21.872053",
     "status": "completed"
    },
    "tags": []
   },
   "outputs": [],
   "source": [
    "# havingIP('https://www.amazon.in/')"
   ]
  },
  {
   "cell_type": "code",
   "execution_count": 11,
   "id": "036ff2e6",
   "metadata": {
    "execution": {
     "iopub.execute_input": "2024-08-17T07:22:21.930969Z",
     "iopub.status.busy": "2024-08-17T07:22:21.930698Z",
     "iopub.status.idle": "2024-08-17T07:22:21.934457Z",
     "shell.execute_reply": "2024-08-17T07:22:21.933703Z"
    },
    "papermill": {
     "duration": 0.023569,
     "end_time": "2024-08-17T07:22:21.936394",
     "exception": false,
     "start_time": "2024-08-17T07:22:21.912825",
     "status": "completed"
    },
    "tags": []
   },
   "outputs": [],
   "source": [
    "# df = rank_type(df)"
   ]
  },
  {
   "cell_type": "code",
   "execution_count": 12,
   "id": "c6ab0bde",
   "metadata": {
    "execution": {
     "iopub.execute_input": "2024-08-17T07:22:21.971856Z",
     "iopub.status.busy": "2024-08-17T07:22:21.971568Z",
     "iopub.status.idle": "2024-08-17T07:22:21.989462Z",
     "shell.execute_reply": "2024-08-17T07:22:21.988798Z"
    },
    "papermill": {
     "duration": 0.037727,
     "end_time": "2024-08-17T07:22:21.991360",
     "exception": false,
     "start_time": "2024-08-17T07:22:21.953633",
     "status": "completed"
    },
    "tags": []
   },
   "outputs": [],
   "source": [
    "df = df.reset_index(drop=True)"
   ]
  },
  {
   "cell_type": "code",
   "execution_count": 13,
   "id": "76da86f6",
   "metadata": {
    "execution": {
     "iopub.execute_input": "2024-08-17T07:22:22.026673Z",
     "iopub.status.busy": "2024-08-17T07:22:22.026406Z",
     "iopub.status.idle": "2024-08-17T07:22:22.035374Z",
     "shell.execute_reply": "2024-08-17T07:22:22.034579Z"
    },
    "papermill": {
     "duration": 0.028989,
     "end_time": "2024-08-17T07:22:22.037514",
     "exception": false,
     "start_time": "2024-08-17T07:22:22.008525",
     "status": "completed"
    },
    "tags": []
   },
   "outputs": [
    {
     "data": {
      "text/html": [
       "<div>\n",
       "<style scoped>\n",
       "    .dataframe tbody tr th:only-of-type {\n",
       "        vertical-align: middle;\n",
       "    }\n",
       "\n",
       "    .dataframe tbody tr th {\n",
       "        vertical-align: top;\n",
       "    }\n",
       "\n",
       "    .dataframe thead th {\n",
       "        text-align: right;\n",
       "    }\n",
       "</style>\n",
       "<table border=\"1\" class=\"dataframe\">\n",
       "  <thead>\n",
       "    <tr style=\"text-align: right;\">\n",
       "      <th></th>\n",
       "      <th>url</th>\n",
       "      <th>type</th>\n",
       "    </tr>\n",
       "  </thead>\n",
       "  <tbody>\n",
       "    <tr>\n",
       "      <th>0</th>\n",
       "      <td>br-icloud.com.br</td>\n",
       "      <td>phishing</td>\n",
       "    </tr>\n",
       "    <tr>\n",
       "      <th>1</th>\n",
       "      <td>mp3raid.com/music/krizz_kaliko.html</td>\n",
       "      <td>benign</td>\n",
       "    </tr>\n",
       "    <tr>\n",
       "      <th>2</th>\n",
       "      <td>bopsecrets.org/rexroth/cr/1.htm</td>\n",
       "      <td>benign</td>\n",
       "    </tr>\n",
       "    <tr>\n",
       "      <th>3</th>\n",
       "      <td>http://buzzfil.net/m/show-art/ils-etaient-loin...</td>\n",
       "      <td>benign</td>\n",
       "    </tr>\n",
       "    <tr>\n",
       "      <th>4</th>\n",
       "      <td>espn.go.com/nba/player/_/id/3457/brandon-rush</td>\n",
       "      <td>benign</td>\n",
       "    </tr>\n",
       "  </tbody>\n",
       "</table>\n",
       "</div>"
      ],
      "text/plain": [
       "                                                 url      type\n",
       "0                                   br-icloud.com.br  phishing\n",
       "1                mp3raid.com/music/krizz_kaliko.html    benign\n",
       "2                    bopsecrets.org/rexroth/cr/1.htm    benign\n",
       "3  http://buzzfil.net/m/show-art/ils-etaient-loin...    benign\n",
       "4      espn.go.com/nba/player/_/id/3457/brandon-rush    benign"
      ]
     },
     "execution_count": 13,
     "metadata": {},
     "output_type": "execute_result"
    }
   ],
   "source": [
    "df.head()"
   ]
  },
  {
   "cell_type": "markdown",
   "id": "82f0f431",
   "metadata": {
    "papermill": {
     "duration": 0.01711,
     "end_time": "2024-08-17T07:22:22.073714",
     "exception": false,
     "start_time": "2024-08-17T07:22:22.056604",
     "status": "completed"
    },
    "tags": []
   },
   "source": [
    "* having ip getting 0's in all urls -> not used\n",
    "* domain of url -> done\n",
    "* @ symbol in url -> done\n",
    "* length of url -> done\n",
    "* depth of url -> done\n",
    "* redirection \"//\" in url -> done\n",
    "* http/https in domain name -> done\n",
    "* prefix or suffix in domain -> done"
   ]
  },
  {
   "cell_type": "code",
   "execution_count": 14,
   "id": "a79ae8df",
   "metadata": {
    "execution": {
     "iopub.execute_input": "2024-08-17T07:22:22.109637Z",
     "iopub.status.busy": "2024-08-17T07:22:22.109379Z",
     "iopub.status.idle": "2024-08-17T07:22:22.116013Z",
     "shell.execute_reply": "2024-08-17T07:22:22.115216Z"
    },
    "papermill": {
     "duration": 0.026791,
     "end_time": "2024-08-17T07:22:22.117910",
     "exception": false,
     "start_time": "2024-08-17T07:22:22.091119",
     "status": "completed"
    },
    "tags": []
   },
   "outputs": [
    {
     "data": {
      "text/plain": [
       "'buzzfil.net'"
      ]
     },
     "execution_count": 14,
     "metadata": {},
     "output_type": "execute_result"
    }
   ],
   "source": [
    "# 1.Domain of the URL (Domain) \n",
    "def getDomain(url):  \n",
    "    domain = urlparse(url).netloc\n",
    "    if re.match(r\"^www.\",domain):\n",
    "        domain = domain.replace(\"www.\",\"\")\n",
    "    return domain\n",
    "\n",
    "getDomain(df['url'][3])"
   ]
  },
  {
   "cell_type": "code",
   "execution_count": 15,
   "id": "dfd10bc3",
   "metadata": {
    "execution": {
     "iopub.execute_input": "2024-08-17T07:22:22.154292Z",
     "iopub.status.busy": "2024-08-17T07:22:22.154028Z",
     "iopub.status.idle": "2024-08-17T07:22:22.160209Z",
     "shell.execute_reply": "2024-08-17T07:22:22.159376Z"
    },
    "papermill": {
     "duration": 0.026544,
     "end_time": "2024-08-17T07:22:22.162158",
     "exception": false,
     "start_time": "2024-08-17T07:22:22.135614",
     "status": "completed"
    },
    "tags": []
   },
   "outputs": [
    {
     "data": {
      "text/plain": [
       "1"
      ]
     },
     "execution_count": 15,
     "metadata": {},
     "output_type": "execute_result"
    }
   ],
   "source": [
    "def haveAtSign(url):\n",
    "    if \"@\" in url:\n",
    "        at = 1    \n",
    "    else:\n",
    "        at = 0    \n",
    "    return at\n",
    "\n",
    "haveAtSign('https://@.com')"
   ]
  },
  {
   "cell_type": "code",
   "execution_count": 16,
   "id": "94956dcf",
   "metadata": {
    "execution": {
     "iopub.execute_input": "2024-08-17T07:22:22.199052Z",
     "iopub.status.busy": "2024-08-17T07:22:22.198305Z",
     "iopub.status.idle": "2024-08-17T07:22:22.203084Z",
     "shell.execute_reply": "2024-08-17T07:22:22.202251Z"
    },
    "papermill": {
     "duration": 0.025346,
     "end_time": "2024-08-17T07:22:22.205040",
     "exception": false,
     "start_time": "2024-08-17T07:22:22.179694",
     "status": "completed"
    },
    "tags": []
   },
   "outputs": [],
   "source": [
    "def get_depth(url):\n",
    "    s = urlparse(url).path.split('/')\n",
    "    depth = 0\n",
    "    for j in range(len(s)):\n",
    "        if len(s[j]) != 0:\n",
    "            depth += 1\n",
    "    \n",
    "    return depth"
   ]
  },
  {
   "cell_type": "code",
   "execution_count": 17,
   "id": "9f6d98fb",
   "metadata": {
    "execution": {
     "iopub.execute_input": "2024-08-17T07:22:22.241959Z",
     "iopub.status.busy": "2024-08-17T07:22:22.241236Z",
     "iopub.status.idle": "2024-08-17T07:22:22.246376Z",
     "shell.execute_reply": "2024-08-17T07:22:22.245452Z"
    },
    "papermill": {
     "duration": 0.025547,
     "end_time": "2024-08-17T07:22:22.248181",
     "exception": false,
     "start_time": "2024-08-17T07:22:22.222634",
     "status": "completed"
    },
    "tags": []
   },
   "outputs": [],
   "source": [
    "# 1 shows a phishing and 0 shows a original\n",
    "def redirection(url):\n",
    "    pos = url.rfind('//')\n",
    "#     print(pos)\n",
    "    if pos > 5:\n",
    "        if pos > 6:\n",
    "            return 1\n",
    "        else:\n",
    "            return 0\n",
    "    else:\n",
    "        return 0"
   ]
  },
  {
   "cell_type": "code",
   "execution_count": 18,
   "id": "829fbd5e",
   "metadata": {
    "execution": {
     "iopub.execute_input": "2024-08-17T07:22:22.284377Z",
     "iopub.status.busy": "2024-08-17T07:22:22.284107Z",
     "iopub.status.idle": "2024-08-17T07:22:22.289383Z",
     "shell.execute_reply": "2024-08-17T07:22:22.288596Z"
    },
    "papermill": {
     "duration": 0.025597,
     "end_time": "2024-08-17T07:22:22.291327",
     "exception": false,
     "start_time": "2024-08-17T07:22:22.265730",
     "status": "completed"
    },
    "tags": []
   },
   "outputs": [
    {
     "data": {
      "text/plain": [
       "0"
      ]
     },
     "execution_count": 18,
     "metadata": {},
     "output_type": "execute_result"
    }
   ],
   "source": [
    "redirection(df['url'][5])"
   ]
  },
  {
   "cell_type": "code",
   "execution_count": 19,
   "id": "c204edc5",
   "metadata": {
    "execution": {
     "iopub.execute_input": "2024-08-17T07:22:22.328137Z",
     "iopub.status.busy": "2024-08-17T07:22:22.327412Z",
     "iopub.status.idle": "2024-08-17T07:22:22.333593Z",
     "shell.execute_reply": "2024-08-17T07:22:22.332818Z"
    },
    "papermill": {
     "duration": 0.026518,
     "end_time": "2024-08-17T07:22:22.335510",
     "exception": false,
     "start_time": "2024-08-17T07:22:22.308992",
     "status": "completed"
    },
    "tags": []
   },
   "outputs": [
    {
     "data": {
      "text/plain": [
       "0"
      ]
     },
     "execution_count": 19,
     "metadata": {},
     "output_type": "execute_result"
    }
   ],
   "source": [
    "# check the domain contains a https or not\n",
    "def httpsDomain(url):\n",
    "    domain = urlparse(url).scheme\n",
    "    \n",
    "#     print(domain)\n",
    "    if 'https' == domain:\n",
    "        return 1\n",
    "    else:\n",
    "        return 0\n",
    "\n",
    "httpsDomain('http://www.amazon.in/')"
   ]
  },
  {
   "cell_type": "code",
   "execution_count": 20,
   "id": "c110f2a4",
   "metadata": {
    "execution": {
     "iopub.execute_input": "2024-08-17T07:22:22.411065Z",
     "iopub.status.busy": "2024-08-17T07:22:22.410733Z",
     "iopub.status.idle": "2024-08-17T07:22:22.415448Z",
     "shell.execute_reply": "2024-08-17T07:22:22.414484Z"
    },
    "papermill": {
     "duration": 0.063957,
     "end_time": "2024-08-17T07:22:22.417595",
     "exception": false,
     "start_time": "2024-08-17T07:22:22.353638",
     "status": "completed"
    },
    "tags": []
   },
   "outputs": [],
   "source": [
    "def prefixSuffix(url):\n",
    "    if '-' in urlparse(url).netloc:\n",
    "        return 1\n",
    "    else:\n",
    "        return 0"
   ]
  },
  {
   "cell_type": "code",
   "execution_count": 21,
   "id": "882cde0a",
   "metadata": {
    "execution": {
     "iopub.execute_input": "2024-08-17T07:22:22.454855Z",
     "iopub.status.busy": "2024-08-17T07:22:22.454263Z",
     "iopub.status.idle": "2024-08-17T07:22:22.458495Z",
     "shell.execute_reply": "2024-08-17T07:22:22.457693Z"
    },
    "papermill": {
     "duration": 0.024782,
     "end_time": "2024-08-17T07:22:22.460319",
     "exception": false,
     "start_time": "2024-08-17T07:22:22.435537",
     "status": "completed"
    },
    "tags": []
   },
   "outputs": [],
   "source": [
    "def length_url(url):\n",
    "    if len(url) < 54:\n",
    "        return 0\n",
    "    else:\n",
    "        return 1"
   ]
  },
  {
   "cell_type": "code",
   "execution_count": 22,
   "id": "a97ae8e2",
   "metadata": {
    "execution": {
     "iopub.execute_input": "2024-08-17T07:22:22.497382Z",
     "iopub.status.busy": "2024-08-17T07:22:22.497143Z",
     "iopub.status.idle": "2024-08-17T07:22:22.502373Z",
     "shell.execute_reply": "2024-08-17T07:22:22.501584Z"
    },
    "papermill": {
     "duration": 0.025713,
     "end_time": "2024-08-17T07:22:22.504263",
     "exception": false,
     "start_time": "2024-08-17T07:22:22.478550",
     "status": "completed"
    },
    "tags": []
   },
   "outputs": [
    {
     "data": {
      "text/plain": [
       "0"
      ]
     },
     "execution_count": 22,
     "metadata": {},
     "output_type": "execute_result"
    }
   ],
   "source": [
    "length_url('https://www.amazon.in/shoes/')"
   ]
  },
  {
   "cell_type": "code",
   "execution_count": 23,
   "id": "f177f9d7",
   "metadata": {
    "execution": {
     "iopub.execute_input": "2024-08-17T07:22:22.541913Z",
     "iopub.status.busy": "2024-08-17T07:22:22.541638Z",
     "iopub.status.idle": "2024-08-17T07:22:42.682108Z",
     "shell.execute_reply": "2024-08-17T07:22:42.681327Z"
    },
    "papermill": {
     "duration": 20.162227,
     "end_time": "2024-08-17T07:22:42.684471",
     "exception": false,
     "start_time": "2024-08-17T07:22:22.522244",
     "status": "completed"
    },
    "tags": []
   },
   "outputs": [],
   "source": [
    "df['domain'] = df['url'].apply(getDomain)\n",
    "df['have@'] = df['url'].apply(haveAtSign)\n",
    "df['have_depth'] = df['url'].apply(get_depth)\n",
    "df['redirect'] = df['url'].apply(redirection)\n",
    "df['https_domain'] = df['url'].apply(httpsDomain)\n",
    "df['prefix_Suffix'] = df['url'].apply(prefixSuffix)\n",
    "df['length_urls'] = df['url'].apply(length_url)\n",
    "# df['having_ip'] = df['url'].apply(havingIP)"
   ]
  },
  {
   "cell_type": "code",
   "execution_count": 24,
   "id": "278e78ba",
   "metadata": {
    "execution": {
     "iopub.execute_input": "2024-08-17T07:22:42.723582Z",
     "iopub.status.busy": "2024-08-17T07:22:42.722795Z",
     "iopub.status.idle": "2024-08-17T07:22:42.735250Z",
     "shell.execute_reply": "2024-08-17T07:22:42.734450Z"
    },
    "papermill": {
     "duration": 0.034047,
     "end_time": "2024-08-17T07:22:42.737297",
     "exception": false,
     "start_time": "2024-08-17T07:22:42.703250",
     "status": "completed"
    },
    "tags": []
   },
   "outputs": [
    {
     "data": {
      "text/html": [
       "<div>\n",
       "<style scoped>\n",
       "    .dataframe tbody tr th:only-of-type {\n",
       "        vertical-align: middle;\n",
       "    }\n",
       "\n",
       "    .dataframe tbody tr th {\n",
       "        vertical-align: top;\n",
       "    }\n",
       "\n",
       "    .dataframe thead th {\n",
       "        text-align: right;\n",
       "    }\n",
       "</style>\n",
       "<table border=\"1\" class=\"dataframe\">\n",
       "  <thead>\n",
       "    <tr style=\"text-align: right;\">\n",
       "      <th></th>\n",
       "      <th>url</th>\n",
       "      <th>type</th>\n",
       "      <th>domain</th>\n",
       "      <th>have@</th>\n",
       "      <th>have_depth</th>\n",
       "      <th>redirect</th>\n",
       "      <th>https_domain</th>\n",
       "      <th>prefix_Suffix</th>\n",
       "      <th>length_urls</th>\n",
       "    </tr>\n",
       "  </thead>\n",
       "  <tbody>\n",
       "    <tr>\n",
       "      <th>0</th>\n",
       "      <td>br-icloud.com.br</td>\n",
       "      <td>phishing</td>\n",
       "      <td></td>\n",
       "      <td>0</td>\n",
       "      <td>1</td>\n",
       "      <td>0</td>\n",
       "      <td>0</td>\n",
       "      <td>0</td>\n",
       "      <td>0</td>\n",
       "    </tr>\n",
       "    <tr>\n",
       "      <th>1</th>\n",
       "      <td>mp3raid.com/music/krizz_kaliko.html</td>\n",
       "      <td>benign</td>\n",
       "      <td></td>\n",
       "      <td>0</td>\n",
       "      <td>3</td>\n",
       "      <td>0</td>\n",
       "      <td>0</td>\n",
       "      <td>0</td>\n",
       "      <td>0</td>\n",
       "    </tr>\n",
       "    <tr>\n",
       "      <th>2</th>\n",
       "      <td>bopsecrets.org/rexroth/cr/1.htm</td>\n",
       "      <td>benign</td>\n",
       "      <td></td>\n",
       "      <td>0</td>\n",
       "      <td>4</td>\n",
       "      <td>0</td>\n",
       "      <td>0</td>\n",
       "      <td>0</td>\n",
       "      <td>0</td>\n",
       "    </tr>\n",
       "    <tr>\n",
       "      <th>3</th>\n",
       "      <td>http://buzzfil.net/m/show-art/ils-etaient-loin...</td>\n",
       "      <td>benign</td>\n",
       "      <td>buzzfil.net</td>\n",
       "      <td>0</td>\n",
       "      <td>3</td>\n",
       "      <td>0</td>\n",
       "      <td>0</td>\n",
       "      <td>0</td>\n",
       "      <td>1</td>\n",
       "    </tr>\n",
       "    <tr>\n",
       "      <th>4</th>\n",
       "      <td>espn.go.com/nba/player/_/id/3457/brandon-rush</td>\n",
       "      <td>benign</td>\n",
       "      <td></td>\n",
       "      <td>0</td>\n",
       "      <td>7</td>\n",
       "      <td>0</td>\n",
       "      <td>0</td>\n",
       "      <td>0</td>\n",
       "      <td>0</td>\n",
       "    </tr>\n",
       "  </tbody>\n",
       "</table>\n",
       "</div>"
      ],
      "text/plain": [
       "                                                 url      type       domain  \\\n",
       "0                                   br-icloud.com.br  phishing                \n",
       "1                mp3raid.com/music/krizz_kaliko.html    benign                \n",
       "2                    bopsecrets.org/rexroth/cr/1.htm    benign                \n",
       "3  http://buzzfil.net/m/show-art/ils-etaient-loin...    benign  buzzfil.net   \n",
       "4      espn.go.com/nba/player/_/id/3457/brandon-rush    benign                \n",
       "\n",
       "   have@  have_depth  redirect  https_domain  prefix_Suffix  length_urls  \n",
       "0      0           1         0             0              0            0  \n",
       "1      0           3         0             0              0            0  \n",
       "2      0           4         0             0              0            0  \n",
       "3      0           3         0             0              0            1  \n",
       "4      0           7         0             0              0            0  "
      ]
     },
     "execution_count": 24,
     "metadata": {},
     "output_type": "execute_result"
    }
   ],
   "source": [
    "df.head()"
   ]
  },
  {
   "cell_type": "code",
   "execution_count": 25,
   "id": "a12effff",
   "metadata": {
    "execution": {
     "iopub.execute_input": "2024-08-17T07:22:42.775592Z",
     "iopub.status.busy": "2024-08-17T07:22:42.775340Z",
     "iopub.status.idle": "2024-08-17T07:22:43.000071Z",
     "shell.execute_reply": "2024-08-17T07:22:42.999304Z"
    },
    "papermill": {
     "duration": 0.24673,
     "end_time": "2024-08-17T07:22:43.002418",
     "exception": false,
     "start_time": "2024-08-17T07:22:42.755688",
     "status": "completed"
    },
    "tags": []
   },
   "outputs": [],
   "source": [
    "df.replace(\"\", np.nan, inplace=True)"
   ]
  },
  {
   "cell_type": "code",
   "execution_count": 26,
   "id": "5202a2e0",
   "metadata": {
    "execution": {
     "iopub.execute_input": "2024-08-17T07:22:43.043045Z",
     "iopub.status.busy": "2024-08-17T07:22:43.042672Z",
     "iopub.status.idle": "2024-08-17T07:22:43.054993Z",
     "shell.execute_reply": "2024-08-17T07:22:43.054113Z"
    },
    "papermill": {
     "duration": 0.035022,
     "end_time": "2024-08-17T07:22:43.056995",
     "exception": false,
     "start_time": "2024-08-17T07:22:43.021973",
     "status": "completed"
    },
    "tags": []
   },
   "outputs": [
    {
     "data": {
      "text/html": [
       "<div>\n",
       "<style scoped>\n",
       "    .dataframe tbody tr th:only-of-type {\n",
       "        vertical-align: middle;\n",
       "    }\n",
       "\n",
       "    .dataframe tbody tr th {\n",
       "        vertical-align: top;\n",
       "    }\n",
       "\n",
       "    .dataframe thead th {\n",
       "        text-align: right;\n",
       "    }\n",
       "</style>\n",
       "<table border=\"1\" class=\"dataframe\">\n",
       "  <thead>\n",
       "    <tr style=\"text-align: right;\">\n",
       "      <th></th>\n",
       "      <th>url</th>\n",
       "      <th>type</th>\n",
       "      <th>domain</th>\n",
       "      <th>have@</th>\n",
       "      <th>have_depth</th>\n",
       "      <th>redirect</th>\n",
       "      <th>https_domain</th>\n",
       "      <th>prefix_Suffix</th>\n",
       "      <th>length_urls</th>\n",
       "    </tr>\n",
       "  </thead>\n",
       "  <tbody>\n",
       "    <tr>\n",
       "      <th>0</th>\n",
       "      <td>br-icloud.com.br</td>\n",
       "      <td>phishing</td>\n",
       "      <td>NaN</td>\n",
       "      <td>0</td>\n",
       "      <td>1</td>\n",
       "      <td>0</td>\n",
       "      <td>0</td>\n",
       "      <td>0</td>\n",
       "      <td>0</td>\n",
       "    </tr>\n",
       "    <tr>\n",
       "      <th>1</th>\n",
       "      <td>mp3raid.com/music/krizz_kaliko.html</td>\n",
       "      <td>benign</td>\n",
       "      <td>NaN</td>\n",
       "      <td>0</td>\n",
       "      <td>3</td>\n",
       "      <td>0</td>\n",
       "      <td>0</td>\n",
       "      <td>0</td>\n",
       "      <td>0</td>\n",
       "    </tr>\n",
       "    <tr>\n",
       "      <th>2</th>\n",
       "      <td>bopsecrets.org/rexroth/cr/1.htm</td>\n",
       "      <td>benign</td>\n",
       "      <td>NaN</td>\n",
       "      <td>0</td>\n",
       "      <td>4</td>\n",
       "      <td>0</td>\n",
       "      <td>0</td>\n",
       "      <td>0</td>\n",
       "      <td>0</td>\n",
       "    </tr>\n",
       "    <tr>\n",
       "      <th>3</th>\n",
       "      <td>http://buzzfil.net/m/show-art/ils-etaient-loin...</td>\n",
       "      <td>benign</td>\n",
       "      <td>buzzfil.net</td>\n",
       "      <td>0</td>\n",
       "      <td>3</td>\n",
       "      <td>0</td>\n",
       "      <td>0</td>\n",
       "      <td>0</td>\n",
       "      <td>1</td>\n",
       "    </tr>\n",
       "    <tr>\n",
       "      <th>4</th>\n",
       "      <td>espn.go.com/nba/player/_/id/3457/brandon-rush</td>\n",
       "      <td>benign</td>\n",
       "      <td>NaN</td>\n",
       "      <td>0</td>\n",
       "      <td>7</td>\n",
       "      <td>0</td>\n",
       "      <td>0</td>\n",
       "      <td>0</td>\n",
       "      <td>0</td>\n",
       "    </tr>\n",
       "  </tbody>\n",
       "</table>\n",
       "</div>"
      ],
      "text/plain": [
       "                                                 url      type       domain  \\\n",
       "0                                   br-icloud.com.br  phishing          NaN   \n",
       "1                mp3raid.com/music/krizz_kaliko.html    benign          NaN   \n",
       "2                    bopsecrets.org/rexroth/cr/1.htm    benign          NaN   \n",
       "3  http://buzzfil.net/m/show-art/ils-etaient-loin...    benign  buzzfil.net   \n",
       "4      espn.go.com/nba/player/_/id/3457/brandon-rush    benign          NaN   \n",
       "\n",
       "   have@  have_depth  redirect  https_domain  prefix_Suffix  length_urls  \n",
       "0      0           1         0             0              0            0  \n",
       "1      0           3         0             0              0            0  \n",
       "2      0           4         0             0              0            0  \n",
       "3      0           3         0             0              0            1  \n",
       "4      0           7         0             0              0            0  "
      ]
     },
     "execution_count": 26,
     "metadata": {},
     "output_type": "execute_result"
    }
   ],
   "source": [
    "df.head()"
   ]
  },
  {
   "cell_type": "code",
   "execution_count": 27,
   "id": "80493a46",
   "metadata": {
    "execution": {
     "iopub.execute_input": "2024-08-17T07:22:43.095704Z",
     "iopub.status.busy": "2024-08-17T07:22:43.095429Z",
     "iopub.status.idle": "2024-08-17T07:22:43.147189Z",
     "shell.execute_reply": "2024-08-17T07:22:43.146010Z"
    },
    "papermill": {
     "duration": 0.073492,
     "end_time": "2024-08-17T07:22:43.149230",
     "exception": false,
     "start_time": "2024-08-17T07:22:43.075738",
     "status": "completed"
    },
    "tags": []
   },
   "outputs": [
    {
     "data": {
      "text/html": [
       "<div>\n",
       "<style scoped>\n",
       "    .dataframe tbody tr th:only-of-type {\n",
       "        vertical-align: middle;\n",
       "    }\n",
       "\n",
       "    .dataframe tbody tr th {\n",
       "        vertical-align: top;\n",
       "    }\n",
       "\n",
       "    .dataframe thead th {\n",
       "        text-align: right;\n",
       "    }\n",
       "</style>\n",
       "<table border=\"1\" class=\"dataframe\">\n",
       "  <thead>\n",
       "    <tr style=\"text-align: right;\">\n",
       "      <th></th>\n",
       "      <th>url</th>\n",
       "      <th>type</th>\n",
       "      <th>domain</th>\n",
       "      <th>have@</th>\n",
       "      <th>have_depth</th>\n",
       "      <th>redirect</th>\n",
       "      <th>https_domain</th>\n",
       "      <th>prefix_Suffix</th>\n",
       "      <th>length_urls</th>\n",
       "    </tr>\n",
       "  </thead>\n",
       "  <tbody>\n",
       "    <tr>\n",
       "      <th>3</th>\n",
       "      <td>http://buzzfil.net/m/show-art/ils-etaient-loin...</td>\n",
       "      <td>benign</td>\n",
       "      <td>buzzfil.net</td>\n",
       "      <td>0</td>\n",
       "      <td>3</td>\n",
       "      <td>0</td>\n",
       "      <td>0</td>\n",
       "      <td>0</td>\n",
       "      <td>1</td>\n",
       "    </tr>\n",
       "    <tr>\n",
       "      <th>19</th>\n",
       "      <td>http://hollywoodlife.com/2014/05/01/rihanna-ih...</td>\n",
       "      <td>benign</td>\n",
       "      <td>hollywoodlife.com</td>\n",
       "      <td>0</td>\n",
       "      <td>4</td>\n",
       "      <td>0</td>\n",
       "      <td>0</td>\n",
       "      <td>0</td>\n",
       "      <td>1</td>\n",
       "    </tr>\n",
       "    <tr>\n",
       "      <th>20</th>\n",
       "      <td>http://www.marketingbyinternet.com/mo/e56508df...</td>\n",
       "      <td>phishing</td>\n",
       "      <td>marketingbyinternet.com</td>\n",
       "      <td>0</td>\n",
       "      <td>2</td>\n",
       "      <td>0</td>\n",
       "      <td>0</td>\n",
       "      <td>0</td>\n",
       "      <td>1</td>\n",
       "    </tr>\n",
       "    <tr>\n",
       "      <th>29</th>\n",
       "      <td>https://docs.google.com/spreadsheet/viewform?f...</td>\n",
       "      <td>phishing</td>\n",
       "      <td>docs.google.com</td>\n",
       "      <td>0</td>\n",
       "      <td>2</td>\n",
       "      <td>0</td>\n",
       "      <td>1</td>\n",
       "      <td>0</td>\n",
       "      <td>1</td>\n",
       "    </tr>\n",
       "    <tr>\n",
       "      <th>37</th>\n",
       "      <td>http://interpark.com/displaycorner/FreeMarket....</td>\n",
       "      <td>benign</td>\n",
       "      <td>interpark.com</td>\n",
       "      <td>0</td>\n",
       "      <td>2</td>\n",
       "      <td>0</td>\n",
       "      <td>0</td>\n",
       "      <td>0</td>\n",
       "      <td>1</td>\n",
       "    </tr>\n",
       "  </tbody>\n",
       "</table>\n",
       "</div>"
      ],
      "text/plain": [
       "                                                  url      type  \\\n",
       "3   http://buzzfil.net/m/show-art/ils-etaient-loin...    benign   \n",
       "19  http://hollywoodlife.com/2014/05/01/rihanna-ih...    benign   \n",
       "20  http://www.marketingbyinternet.com/mo/e56508df...  phishing   \n",
       "29  https://docs.google.com/spreadsheet/viewform?f...  phishing   \n",
       "37  http://interpark.com/displaycorner/FreeMarket....    benign   \n",
       "\n",
       "                     domain  have@  have_depth  redirect  https_domain  \\\n",
       "3               buzzfil.net      0           3         0             0   \n",
       "19        hollywoodlife.com      0           4         0             0   \n",
       "20  marketingbyinternet.com      0           2         0             0   \n",
       "29          docs.google.com      0           2         0             1   \n",
       "37            interpark.com      0           2         0             0   \n",
       "\n",
       "    prefix_Suffix  length_urls  \n",
       "3               0            1  \n",
       "19              0            1  \n",
       "20              0            1  \n",
       "29              0            1  \n",
       "37              0            1  "
      ]
     },
     "execution_count": 27,
     "metadata": {},
     "output_type": "execute_result"
    }
   ],
   "source": [
    "df  = df.dropna(subset=['domain'])\n",
    "df.head()"
   ]
  },
  {
   "cell_type": "code",
   "execution_count": 28,
   "id": "fcd37109",
   "metadata": {
    "execution": {
     "iopub.execute_input": "2024-08-17T07:22:43.188834Z",
     "iopub.status.busy": "2024-08-17T07:22:43.188511Z",
     "iopub.status.idle": "2024-08-17T07:22:43.199812Z",
     "shell.execute_reply": "2024-08-17T07:22:43.199101Z"
    },
    "papermill": {
     "duration": 0.033444,
     "end_time": "2024-08-17T07:22:43.201870",
     "exception": false,
     "start_time": "2024-08-17T07:22:43.168426",
     "status": "completed"
    },
    "tags": []
   },
   "outputs": [],
   "source": [
    "df = df.reset_index(drop = True)"
   ]
  },
  {
   "cell_type": "code",
   "execution_count": 29,
   "id": "03144b4e",
   "metadata": {
    "execution": {
     "iopub.execute_input": "2024-08-17T07:22:43.241186Z",
     "iopub.status.busy": "2024-08-17T07:22:43.240901Z",
     "iopub.status.idle": "2024-08-17T07:22:43.252469Z",
     "shell.execute_reply": "2024-08-17T07:22:43.251666Z"
    },
    "papermill": {
     "duration": 0.033547,
     "end_time": "2024-08-17T07:22:43.254593",
     "exception": false,
     "start_time": "2024-08-17T07:22:43.221046",
     "status": "completed"
    },
    "tags": []
   },
   "outputs": [
    {
     "data": {
      "text/html": [
       "<div>\n",
       "<style scoped>\n",
       "    .dataframe tbody tr th:only-of-type {\n",
       "        vertical-align: middle;\n",
       "    }\n",
       "\n",
       "    .dataframe tbody tr th {\n",
       "        vertical-align: top;\n",
       "    }\n",
       "\n",
       "    .dataframe thead th {\n",
       "        text-align: right;\n",
       "    }\n",
       "</style>\n",
       "<table border=\"1\" class=\"dataframe\">\n",
       "  <thead>\n",
       "    <tr style=\"text-align: right;\">\n",
       "      <th></th>\n",
       "      <th>url</th>\n",
       "      <th>type</th>\n",
       "      <th>domain</th>\n",
       "      <th>have@</th>\n",
       "      <th>have_depth</th>\n",
       "      <th>redirect</th>\n",
       "      <th>https_domain</th>\n",
       "      <th>prefix_Suffix</th>\n",
       "      <th>length_urls</th>\n",
       "    </tr>\n",
       "  </thead>\n",
       "  <tbody>\n",
       "    <tr>\n",
       "      <th>0</th>\n",
       "      <td>http://buzzfil.net/m/show-art/ils-etaient-loin...</td>\n",
       "      <td>benign</td>\n",
       "      <td>buzzfil.net</td>\n",
       "      <td>0</td>\n",
       "      <td>3</td>\n",
       "      <td>0</td>\n",
       "      <td>0</td>\n",
       "      <td>0</td>\n",
       "      <td>1</td>\n",
       "    </tr>\n",
       "    <tr>\n",
       "      <th>1</th>\n",
       "      <td>http://hollywoodlife.com/2014/05/01/rihanna-ih...</td>\n",
       "      <td>benign</td>\n",
       "      <td>hollywoodlife.com</td>\n",
       "      <td>0</td>\n",
       "      <td>4</td>\n",
       "      <td>0</td>\n",
       "      <td>0</td>\n",
       "      <td>0</td>\n",
       "      <td>1</td>\n",
       "    </tr>\n",
       "    <tr>\n",
       "      <th>2</th>\n",
       "      <td>http://www.marketingbyinternet.com/mo/e56508df...</td>\n",
       "      <td>phishing</td>\n",
       "      <td>marketingbyinternet.com</td>\n",
       "      <td>0</td>\n",
       "      <td>2</td>\n",
       "      <td>0</td>\n",
       "      <td>0</td>\n",
       "      <td>0</td>\n",
       "      <td>1</td>\n",
       "    </tr>\n",
       "    <tr>\n",
       "      <th>3</th>\n",
       "      <td>https://docs.google.com/spreadsheet/viewform?f...</td>\n",
       "      <td>phishing</td>\n",
       "      <td>docs.google.com</td>\n",
       "      <td>0</td>\n",
       "      <td>2</td>\n",
       "      <td>0</td>\n",
       "      <td>1</td>\n",
       "      <td>0</td>\n",
       "      <td>1</td>\n",
       "    </tr>\n",
       "    <tr>\n",
       "      <th>4</th>\n",
       "      <td>http://interpark.com/displaycorner/FreeMarket....</td>\n",
       "      <td>benign</td>\n",
       "      <td>interpark.com</td>\n",
       "      <td>0</td>\n",
       "      <td>2</td>\n",
       "      <td>0</td>\n",
       "      <td>0</td>\n",
       "      <td>0</td>\n",
       "      <td>1</td>\n",
       "    </tr>\n",
       "  </tbody>\n",
       "</table>\n",
       "</div>"
      ],
      "text/plain": [
       "                                                 url      type  \\\n",
       "0  http://buzzfil.net/m/show-art/ils-etaient-loin...    benign   \n",
       "1  http://hollywoodlife.com/2014/05/01/rihanna-ih...    benign   \n",
       "2  http://www.marketingbyinternet.com/mo/e56508df...  phishing   \n",
       "3  https://docs.google.com/spreadsheet/viewform?f...  phishing   \n",
       "4  http://interpark.com/displaycorner/FreeMarket....    benign   \n",
       "\n",
       "                    domain  have@  have_depth  redirect  https_domain  \\\n",
       "0              buzzfil.net      0           3         0             0   \n",
       "1        hollywoodlife.com      0           4         0             0   \n",
       "2  marketingbyinternet.com      0           2         0             0   \n",
       "3          docs.google.com      0           2         0             1   \n",
       "4            interpark.com      0           2         0             0   \n",
       "\n",
       "   prefix_Suffix  length_urls  \n",
       "0              0            1  \n",
       "1              0            1  \n",
       "2              0            1  \n",
       "3              0            1  \n",
       "4              0            1  "
      ]
     },
     "execution_count": 29,
     "metadata": {},
     "output_type": "execute_result"
    }
   ],
   "source": [
    "df.head()"
   ]
  },
  {
   "cell_type": "code",
   "execution_count": 30,
   "id": "418c0c94",
   "metadata": {
    "execution": {
     "iopub.execute_input": "2024-08-17T07:22:43.295691Z",
     "iopub.status.busy": "2024-08-17T07:22:43.295389Z",
     "iopub.status.idle": "2024-08-17T07:22:43.300751Z",
     "shell.execute_reply": "2024-08-17T07:22:43.299947Z"
    },
    "papermill": {
     "duration": 0.02757,
     "end_time": "2024-08-17T07:22:43.302611",
     "exception": false,
     "start_time": "2024-08-17T07:22:43.275041",
     "status": "completed"
    },
    "tags": []
   },
   "outputs": [
    {
     "data": {
      "text/plain": [
       "(60232, 9)"
      ]
     },
     "execution_count": 30,
     "metadata": {},
     "output_type": "execute_result"
    }
   ],
   "source": [
    "df.shape"
   ]
  },
  {
   "cell_type": "code",
   "execution_count": 31,
   "id": "9ed8409e",
   "metadata": {
    "execution": {
     "iopub.execute_input": "2024-08-17T07:22:43.342818Z",
     "iopub.status.busy": "2024-08-17T07:22:43.342521Z",
     "iopub.status.idle": "2024-08-17T07:22:43.588097Z",
     "shell.execute_reply": "2024-08-17T07:22:43.587043Z"
    },
    "papermill": {
     "duration": 0.268413,
     "end_time": "2024-08-17T07:22:43.590325",
     "exception": false,
     "start_time": "2024-08-17T07:22:43.321912",
     "status": "completed"
    },
    "tags": []
   },
   "outputs": [
    {
     "data": {
      "text/plain": [
       "<Axes: xlabel='type', ylabel='count'>"
      ]
     },
     "execution_count": 31,
     "metadata": {},
     "output_type": "execute_result"
    },
    {
     "data": {
      "image/png": "[encoded data removed]",
      "text/plain": [
       "<Figure size 640x480 with 1 Axes>"
      ]
     },
     "metadata": {},
     "output_type": "display_data"
    }
   ],
   "source": [
    "sns.countplot(df, x = 'type')"
   ]
  },
  {
   "cell_type": "code",
   "execution_count": 32,
   "id": "db4f6787",
   "metadata": {
    "execution": {
     "iopub.execute_input": "2024-08-17T07:22:43.637751Z",
     "iopub.status.busy": "2024-08-17T07:22:43.637353Z",
     "iopub.status.idle": "2024-08-17T07:22:43.644859Z",
     "shell.execute_reply": "2024-08-17T07:22:43.643931Z"
    },
    "papermill": {
     "duration": 0.034402,
     "end_time": "2024-08-17T07:22:43.647052",
     "exception": false,
     "start_time": "2024-08-17T07:22:43.612650",
     "status": "completed"
    },
    "tags": []
   },
   "outputs": [],
   "source": [
    "df.drop(columns = ['url'], inplace = True)"
   ]
  },
  {
   "cell_type": "code",
   "execution_count": 33,
   "id": "86af2aa5",
   "metadata": {
    "execution": {
     "iopub.execute_input": "2024-08-17T07:22:43.695541Z",
     "iopub.status.busy": "2024-08-17T07:22:43.695195Z",
     "iopub.status.idle": "2024-08-17T07:22:43.708608Z",
     "shell.execute_reply": "2024-08-17T07:22:43.707581Z"
    },
    "papermill": {
     "duration": 0.040272,
     "end_time": "2024-08-17T07:22:43.710938",
     "exception": false,
     "start_time": "2024-08-17T07:22:43.670666",
     "status": "completed"
    },
    "tags": []
   },
   "outputs": [
    {
     "data": {
      "text/html": [
       "<div>\n",
       "<style scoped>\n",
       "    .dataframe tbody tr th:only-of-type {\n",
       "        vertical-align: middle;\n",
       "    }\n",
       "\n",
       "    .dataframe tbody tr th {\n",
       "        vertical-align: top;\n",
       "    }\n",
       "\n",
       "    .dataframe thead th {\n",
       "        text-align: right;\n",
       "    }\n",
       "</style>\n",
       "<table border=\"1\" class=\"dataframe\">\n",
       "  <thead>\n",
       "    <tr style=\"text-align: right;\">\n",
       "      <th></th>\n",
       "      <th>type</th>\n",
       "      <th>domain</th>\n",
       "      <th>have@</th>\n",
       "      <th>have_depth</th>\n",
       "      <th>redirect</th>\n",
       "      <th>https_domain</th>\n",
       "      <th>prefix_Suffix</th>\n",
       "      <th>length_urls</th>\n",
       "    </tr>\n",
       "  </thead>\n",
       "  <tbody>\n",
       "    <tr>\n",
       "      <th>0</th>\n",
       "      <td>benign</td>\n",
       "      <td>buzzfil.net</td>\n",
       "      <td>0</td>\n",
       "      <td>3</td>\n",
       "      <td>0</td>\n",
       "      <td>0</td>\n",
       "      <td>0</td>\n",
       "      <td>1</td>\n",
       "    </tr>\n",
       "    <tr>\n",
       "      <th>1</th>\n",
       "      <td>benign</td>\n",
       "      <td>hollywoodlife.com</td>\n",
       "      <td>0</td>\n",
       "      <td>4</td>\n",
       "      <td>0</td>\n",
       "      <td>0</td>\n",
       "      <td>0</td>\n",
       "      <td>1</td>\n",
       "    </tr>\n",
       "    <tr>\n",
       "      <th>2</th>\n",
       "      <td>phishing</td>\n",
       "      <td>marketingbyinternet.com</td>\n",
       "      <td>0</td>\n",
       "      <td>2</td>\n",
       "      <td>0</td>\n",
       "      <td>0</td>\n",
       "      <td>0</td>\n",
       "      <td>1</td>\n",
       "    </tr>\n",
       "    <tr>\n",
       "      <th>3</th>\n",
       "      <td>phishing</td>\n",
       "      <td>docs.google.com</td>\n",
       "      <td>0</td>\n",
       "      <td>2</td>\n",
       "      <td>0</td>\n",
       "      <td>1</td>\n",
       "      <td>0</td>\n",
       "      <td>1</td>\n",
       "    </tr>\n",
       "    <tr>\n",
       "      <th>4</th>\n",
       "      <td>benign</td>\n",
       "      <td>interpark.com</td>\n",
       "      <td>0</td>\n",
       "      <td>2</td>\n",
       "      <td>0</td>\n",
       "      <td>0</td>\n",
       "      <td>0</td>\n",
       "      <td>1</td>\n",
       "    </tr>\n",
       "  </tbody>\n",
       "</table>\n",
       "</div>"
      ],
      "text/plain": [
       "       type                   domain  have@  have_depth  redirect  \\\n",
       "0    benign              buzzfil.net      0           3         0   \n",
       "1    benign        hollywoodlife.com      0           4         0   \n",
       "2  phishing  marketingbyinternet.com      0           2         0   \n",
       "3  phishing          docs.google.com      0           2         0   \n",
       "4    benign            interpark.com      0           2         0   \n",
       "\n",
       "   https_domain  prefix_Suffix  length_urls  \n",
       "0             0              0            1  \n",
       "1             0              0            1  \n",
       "2             0              0            1  \n",
       "3             1              0            1  \n",
       "4             0              0            1  "
      ]
     },
     "execution_count": 33,
     "metadata": {},
     "output_type": "execute_result"
    }
   ],
   "source": [
    "df.head()"
   ]
  },
  {
   "cell_type": "code",
   "execution_count": 34,
   "id": "2a885f91",
   "metadata": {
    "execution": {
     "iopub.execute_input": "2024-08-17T07:22:43.759084Z",
     "iopub.status.busy": "2024-08-17T07:22:43.758735Z",
     "iopub.status.idle": "2024-08-17T07:22:43.763865Z",
     "shell.execute_reply": "2024-08-17T07:22:43.762890Z"
    },
    "papermill": {
     "duration": 0.031465,
     "end_time": "2024-08-17T07:22:43.766086",
     "exception": false,
     "start_time": "2024-08-17T07:22:43.734621",
     "status": "completed"
    },
    "tags": []
   },
   "outputs": [],
   "source": [
    "def rank_type(df):\n",
    "    type_rank = {\n",
    "        'phishing': 1,\n",
    "        'benign': 0\n",
    "    }\n",
    "    \n",
    "    df['Type'] = df['type'].map(type_rank)\n",
    "    \n",
    "    return df"
   ]
  },
  {
   "cell_type": "code",
   "execution_count": 35,
   "id": "e6a9ed1f",
   "metadata": {
    "execution": {
     "iopub.execute_input": "2024-08-17T07:22:43.813894Z",
     "iopub.status.busy": "2024-08-17T07:22:43.813224Z",
     "iopub.status.idle": "2024-08-17T07:22:43.832529Z",
     "shell.execute_reply": "2024-08-17T07:22:43.831534Z"
    },
    "papermill": {
     "duration": 0.04585,
     "end_time": "2024-08-17T07:22:43.834922",
     "exception": false,
     "start_time": "2024-08-17T07:22:43.789072",
     "status": "completed"
    },
    "tags": []
   },
   "outputs": [
    {
     "data": {
      "text/html": [
       "<div>\n",
       "<style scoped>\n",
       "    .dataframe tbody tr th:only-of-type {\n",
       "        vertical-align: middle;\n",
       "    }\n",
       "\n",
       "    .dataframe tbody tr th {\n",
       "        vertical-align: top;\n",
       "    }\n",
       "\n",
       "    .dataframe thead th {\n",
       "        text-align: right;\n",
       "    }\n",
       "</style>\n",
       "<table border=\"1\" class=\"dataframe\">\n",
       "  <thead>\n",
       "    <tr style=\"text-align: right;\">\n",
       "      <th></th>\n",
       "      <th>type</th>\n",
       "      <th>domain</th>\n",
       "      <th>have@</th>\n",
       "      <th>have_depth</th>\n",
       "      <th>redirect</th>\n",
       "      <th>https_domain</th>\n",
       "      <th>prefix_Suffix</th>\n",
       "      <th>length_urls</th>\n",
       "      <th>Type</th>\n",
       "    </tr>\n",
       "  </thead>\n",
       "  <tbody>\n",
       "    <tr>\n",
       "      <th>0</th>\n",
       "      <td>benign</td>\n",
       "      <td>buzzfil.net</td>\n",
       "      <td>0</td>\n",
       "      <td>3</td>\n",
       "      <td>0</td>\n",
       "      <td>0</td>\n",
       "      <td>0</td>\n",
       "      <td>1</td>\n",
       "      <td>0</td>\n",
       "    </tr>\n",
       "    <tr>\n",
       "      <th>1</th>\n",
       "      <td>benign</td>\n",
       "      <td>hollywoodlife.com</td>\n",
       "      <td>0</td>\n",
       "      <td>4</td>\n",
       "      <td>0</td>\n",
       "      <td>0</td>\n",
       "      <td>0</td>\n",
       "      <td>1</td>\n",
       "      <td>0</td>\n",
       "    </tr>\n",
       "    <tr>\n",
       "      <th>2</th>\n",
       "      <td>phishing</td>\n",
       "      <td>marketingbyinternet.com</td>\n",
       "      <td>0</td>\n",
       "      <td>2</td>\n",
       "      <td>0</td>\n",
       "      <td>0</td>\n",
       "      <td>0</td>\n",
       "      <td>1</td>\n",
       "      <td>1</td>\n",
       "    </tr>\n",
       "    <tr>\n",
       "      <th>3</th>\n",
       "      <td>phishing</td>\n",
       "      <td>docs.google.com</td>\n",
       "      <td>0</td>\n",
       "      <td>2</td>\n",
       "      <td>0</td>\n",
       "      <td>1</td>\n",
       "      <td>0</td>\n",
       "      <td>1</td>\n",
       "      <td>1</td>\n",
       "    </tr>\n",
       "    <tr>\n",
       "      <th>4</th>\n",
       "      <td>benign</td>\n",
       "      <td>interpark.com</td>\n",
       "      <td>0</td>\n",
       "      <td>2</td>\n",
       "      <td>0</td>\n",
       "      <td>0</td>\n",
       "      <td>0</td>\n",
       "      <td>1</td>\n",
       "      <td>0</td>\n",
       "    </tr>\n",
       "  </tbody>\n",
       "</table>\n",
       "</div>"
      ],
      "text/plain": [
       "       type                   domain  have@  have_depth  redirect  \\\n",
       "0    benign              buzzfil.net      0           3         0   \n",
       "1    benign        hollywoodlife.com      0           4         0   \n",
       "2  phishing  marketingbyinternet.com      0           2         0   \n",
       "3  phishing          docs.google.com      0           2         0   \n",
       "4    benign            interpark.com      0           2         0   \n",
       "\n",
       "   https_domain  prefix_Suffix  length_urls  Type  \n",
       "0             0              0            1     0  \n",
       "1             0              0            1     0  \n",
       "2             0              0            1     1  \n",
       "3             1              0            1     1  \n",
       "4             0              0            1     0  "
      ]
     },
     "execution_count": 35,
     "metadata": {},
     "output_type": "execute_result"
    }
   ],
   "source": [
    "df = rank_type(df)\n",
    "df.head()"
   ]
  },
  {
   "cell_type": "code",
   "execution_count": 36,
   "id": "2b40032a",
   "metadata": {
    "execution": {
     "iopub.execute_input": "2024-08-17T07:22:43.878364Z",
     "iopub.status.busy": "2024-08-17T07:22:43.877878Z",
     "iopub.status.idle": "2024-08-17T07:22:43.885090Z",
     "shell.execute_reply": "2024-08-17T07:22:43.884251Z"
    },
    "papermill": {
     "duration": 0.030049,
     "end_time": "2024-08-17T07:22:43.886936",
     "exception": false,
     "start_time": "2024-08-17T07:22:43.856887",
     "status": "completed"
    },
    "tags": []
   },
   "outputs": [],
   "source": [
    "df.drop(columns = ['type'], inplace = True)"
   ]
  },
  {
   "cell_type": "code",
   "execution_count": 37,
   "id": "c0646324",
   "metadata": {
    "execution": {
     "iopub.execute_input": "2024-08-17T07:22:43.928455Z",
     "iopub.status.busy": "2024-08-17T07:22:43.927992Z",
     "iopub.status.idle": "2024-08-17T07:22:43.939055Z",
     "shell.execute_reply": "2024-08-17T07:22:43.938197Z"
    },
    "papermill": {
     "duration": 0.033909,
     "end_time": "2024-08-17T07:22:43.941057",
     "exception": false,
     "start_time": "2024-08-17T07:22:43.907148",
     "status": "completed"
    },
    "tags": []
   },
   "outputs": [
    {
     "data": {
      "text/html": [
       "<div>\n",
       "<style scoped>\n",
       "    .dataframe tbody tr th:only-of-type {\n",
       "        vertical-align: middle;\n",
       "    }\n",
       "\n",
       "    .dataframe tbody tr th {\n",
       "        vertical-align: top;\n",
       "    }\n",
       "\n",
       "    .dataframe thead th {\n",
       "        text-align: right;\n",
       "    }\n",
       "</style>\n",
       "<table border=\"1\" class=\"dataframe\">\n",
       "  <thead>\n",
       "    <tr style=\"text-align: right;\">\n",
       "      <th></th>\n",
       "      <th>domain</th>\n",
       "      <th>have@</th>\n",
       "      <th>have_depth</th>\n",
       "      <th>redirect</th>\n",
       "      <th>https_domain</th>\n",
       "      <th>prefix_Suffix</th>\n",
       "      <th>length_urls</th>\n",
       "      <th>Type</th>\n",
       "    </tr>\n",
       "  </thead>\n",
       "  <tbody>\n",
       "    <tr>\n",
       "      <th>0</th>\n",
       "      <td>buzzfil.net</td>\n",
       "      <td>0</td>\n",
       "      <td>3</td>\n",
       "      <td>0</td>\n",
       "      <td>0</td>\n",
       "      <td>0</td>\n",
       "      <td>1</td>\n",
       "      <td>0</td>\n",
       "    </tr>\n",
       "    <tr>\n",
       "      <th>1</th>\n",
       "      <td>hollywoodlife.com</td>\n",
       "      <td>0</td>\n",
       "      <td>4</td>\n",
       "      <td>0</td>\n",
       "      <td>0</td>\n",
       "      <td>0</td>\n",
       "      <td>1</td>\n",
       "      <td>0</td>\n",
       "    </tr>\n",
       "    <tr>\n",
       "      <th>2</th>\n",
       "      <td>marketingbyinternet.com</td>\n",
       "      <td>0</td>\n",
       "      <td>2</td>\n",
       "      <td>0</td>\n",
       "      <td>0</td>\n",
       "      <td>0</td>\n",
       "      <td>1</td>\n",
       "      <td>1</td>\n",
       "    </tr>\n",
       "    <tr>\n",
       "      <th>3</th>\n",
       "      <td>docs.google.com</td>\n",
       "      <td>0</td>\n",
       "      <td>2</td>\n",
       "      <td>0</td>\n",
       "      <td>1</td>\n",
       "      <td>0</td>\n",
       "      <td>1</td>\n",
       "      <td>1</td>\n",
       "    </tr>\n",
       "    <tr>\n",
       "      <th>4</th>\n",
       "      <td>interpark.com</td>\n",
       "      <td>0</td>\n",
       "      <td>2</td>\n",
       "      <td>0</td>\n",
       "      <td>0</td>\n",
       "      <td>0</td>\n",
       "      <td>1</td>\n",
       "      <td>0</td>\n",
       "    </tr>\n",
       "  </tbody>\n",
       "</table>\n",
       "</div>"
      ],
      "text/plain": [
       "                    domain  have@  have_depth  redirect  https_domain  \\\n",
       "0              buzzfil.net      0           3         0             0   \n",
       "1        hollywoodlife.com      0           4         0             0   \n",
       "2  marketingbyinternet.com      0           2         0             0   \n",
       "3          docs.google.com      0           2         0             1   \n",
       "4            interpark.com      0           2         0             0   \n",
       "\n",
       "   prefix_Suffix  length_urls  Type  \n",
       "0              0            1     0  \n",
       "1              0            1     0  \n",
       "2              0            1     1  \n",
       "3              0            1     1  \n",
       "4              0            1     0  "
      ]
     },
     "execution_count": 37,
     "metadata": {},
     "output_type": "execute_result"
    }
   ],
   "source": [
    "df.head(5)"
   ]
  },
  {
   "cell_type": "code",
   "execution_count": 38,
   "id": "5f0091b2",
   "metadata": {
    "collapsed": true,
    "execution": {
     "iopub.execute_input": "2024-08-17T07:22:43.982823Z",
     "iopub.status.busy": "2024-08-17T07:22:43.982520Z",
     "iopub.status.idle": "2024-08-17T07:22:43.986581Z",
     "shell.execute_reply": "2024-08-17T07:22:43.985755Z"
    },
    "jupyter": {
     "outputs_hidden": true
    },
    "papermill": {
     "duration": 0.027113,
     "end_time": "2024-08-17T07:22:43.988515",
     "exception": false,
     "start_time": "2024-08-17T07:22:43.961402",
     "status": "completed"
    },
    "tags": []
   },
   "outputs": [],
   "source": [
    "# lt = []\n",
    "\n",
    "# def check_dns(domain):\n",
    "#     dns = 0\n",
    "#     try:\n",
    "#         # Parse the domain and check WHOIS information\n",
    "#         domain_name = whois.whois(domain)\n",
    "# #         print(domain_name)\n",
    "#     except Exception as e:  # Catch all exceptions and handle accordingly\n",
    "#         dns = 1\n",
    "    \n",
    "#     # Append the result to the list\n",
    "#     lt.append(dns)\n",
    "\n",
    "# # Iterate over each domain in the DataFrame\n",
    "# for domain in df['domain']:\n",
    "#     check_dns(domain)"
   ]
  },
  {
   "cell_type": "code",
   "execution_count": 39,
   "id": "7605f383",
   "metadata": {
    "execution": {
     "iopub.execute_input": "2024-08-17T07:22:44.030664Z",
     "iopub.status.busy": "2024-08-17T07:22:44.030342Z",
     "iopub.status.idle": "2024-08-17T07:22:44.034013Z",
     "shell.execute_reply": "2024-08-17T07:22:44.033213Z"
    },
    "papermill": {
     "duration": 0.026943,
     "end_time": "2024-08-17T07:22:44.035958",
     "exception": false,
     "start_time": "2024-08-17T07:22:44.009015",
     "status": "completed"
    },
    "tags": []
   },
   "outputs": [],
   "source": [
    "# len(lt)"
   ]
  },
  {
   "cell_type": "code",
   "execution_count": 40,
   "id": "92899261",
   "metadata": {
    "execution": {
     "iopub.execute_input": "2024-08-17T07:22:44.078276Z",
     "iopub.status.busy": "2024-08-17T07:22:44.077977Z",
     "iopub.status.idle": "2024-08-17T07:22:44.081606Z",
     "shell.execute_reply": "2024-08-17T07:22:44.080816Z"
    },
    "papermill": {
     "duration": 0.026814,
     "end_time": "2024-08-17T07:22:44.083474",
     "exception": false,
     "start_time": "2024-08-17T07:22:44.056660",
     "status": "completed"
    },
    "tags": []
   },
   "outputs": [],
   "source": [
    "# # Count the number of `1`s in the `lt` list\n",
    "# count_of_ones = lt.count(1)\n",
    "\n",
    "# # Print the result\n",
    "# print(f\"Number of domains with invalid DNS records: {count_of_ones}\")"
   ]
  },
  {
   "cell_type": "code",
   "execution_count": 41,
   "id": "e7f032e2",
   "metadata": {
    "execution": {
     "iopub.execute_input": "2024-08-17T07:22:44.126109Z",
     "iopub.status.busy": "2024-08-17T07:22:44.125836Z",
     "iopub.status.idle": "2024-08-17T07:22:44.163190Z",
     "shell.execute_reply": "2024-08-17T07:22:44.162336Z"
    },
    "papermill": {
     "duration": 0.060741,
     "end_time": "2024-08-17T07:22:44.165255",
     "exception": false,
     "start_time": "2024-08-17T07:22:44.104514",
     "status": "completed"
    },
    "tags": []
   },
   "outputs": [
    {
     "data": {
      "text/html": [
       "<div>\n",
       "<style scoped>\n",
       "    .dataframe tbody tr th:only-of-type {\n",
       "        vertical-align: middle;\n",
       "    }\n",
       "\n",
       "    .dataframe tbody tr th {\n",
       "        vertical-align: top;\n",
       "    }\n",
       "\n",
       "    .dataframe thead th {\n",
       "        text-align: right;\n",
       "    }\n",
       "</style>\n",
       "<table border=\"1\" class=\"dataframe\">\n",
       "  <thead>\n",
       "    <tr style=\"text-align: right;\">\n",
       "      <th></th>\n",
       "      <th>Domain</th>\n",
       "      <th>Have_IP</th>\n",
       "      <th>Have_At</th>\n",
       "      <th>URL_Length</th>\n",
       "      <th>URL_Depth</th>\n",
       "      <th>Redirection</th>\n",
       "      <th>https_Domain</th>\n",
       "      <th>TinyURL</th>\n",
       "      <th>Prefix/Suffix</th>\n",
       "      <th>DNS_Record</th>\n",
       "      <th>Web_Traffic</th>\n",
       "      <th>Domain_Age</th>\n",
       "      <th>Domain_End</th>\n",
       "      <th>iFrame</th>\n",
       "      <th>Mouse_Over</th>\n",
       "      <th>Right_Click</th>\n",
       "      <th>Web_Forwards</th>\n",
       "      <th>Label</th>\n",
       "    </tr>\n",
       "  </thead>\n",
       "  <tbody>\n",
       "    <tr>\n",
       "      <th>0</th>\n",
       "      <td>graphicriver.net</td>\n",
       "      <td>0</td>\n",
       "      <td>0</td>\n",
       "      <td>1</td>\n",
       "      <td>1</td>\n",
       "      <td>0</td>\n",
       "      <td>0</td>\n",
       "      <td>0</td>\n",
       "      <td>0</td>\n",
       "      <td>0</td>\n",
       "      <td>1</td>\n",
       "      <td>1</td>\n",
       "      <td>1</td>\n",
       "      <td>0</td>\n",
       "      <td>0</td>\n",
       "      <td>1</td>\n",
       "      <td>0</td>\n",
       "      <td>0</td>\n",
       "    </tr>\n",
       "    <tr>\n",
       "      <th>1</th>\n",
       "      <td>ecnavi.jp</td>\n",
       "      <td>0</td>\n",
       "      <td>0</td>\n",
       "      <td>1</td>\n",
       "      <td>1</td>\n",
       "      <td>1</td>\n",
       "      <td>0</td>\n",
       "      <td>0</td>\n",
       "      <td>0</td>\n",
       "      <td>0</td>\n",
       "      <td>1</td>\n",
       "      <td>1</td>\n",
       "      <td>1</td>\n",
       "      <td>0</td>\n",
       "      <td>0</td>\n",
       "      <td>1</td>\n",
       "      <td>0</td>\n",
       "      <td>0</td>\n",
       "    </tr>\n",
       "    <tr>\n",
       "      <th>2</th>\n",
       "      <td>hubpages.com</td>\n",
       "      <td>0</td>\n",
       "      <td>0</td>\n",
       "      <td>1</td>\n",
       "      <td>1</td>\n",
       "      <td>0</td>\n",
       "      <td>0</td>\n",
       "      <td>0</td>\n",
       "      <td>0</td>\n",
       "      <td>0</td>\n",
       "      <td>1</td>\n",
       "      <td>0</td>\n",
       "      <td>1</td>\n",
       "      <td>0</td>\n",
       "      <td>0</td>\n",
       "      <td>1</td>\n",
       "      <td>0</td>\n",
       "      <td>0</td>\n",
       "    </tr>\n",
       "    <tr>\n",
       "      <th>3</th>\n",
       "      <td>extratorrent.cc</td>\n",
       "      <td>0</td>\n",
       "      <td>0</td>\n",
       "      <td>1</td>\n",
       "      <td>3</td>\n",
       "      <td>0</td>\n",
       "      <td>0</td>\n",
       "      <td>0</td>\n",
       "      <td>0</td>\n",
       "      <td>0</td>\n",
       "      <td>1</td>\n",
       "      <td>0</td>\n",
       "      <td>1</td>\n",
       "      <td>0</td>\n",
       "      <td>0</td>\n",
       "      <td>1</td>\n",
       "      <td>0</td>\n",
       "      <td>0</td>\n",
       "    </tr>\n",
       "    <tr>\n",
       "      <th>4</th>\n",
       "      <td>icicibank.com</td>\n",
       "      <td>0</td>\n",
       "      <td>0</td>\n",
       "      <td>1</td>\n",
       "      <td>3</td>\n",
       "      <td>0</td>\n",
       "      <td>0</td>\n",
       "      <td>0</td>\n",
       "      <td>0</td>\n",
       "      <td>0</td>\n",
       "      <td>1</td>\n",
       "      <td>0</td>\n",
       "      <td>1</td>\n",
       "      <td>0</td>\n",
       "      <td>0</td>\n",
       "      <td>1</td>\n",
       "      <td>0</td>\n",
       "      <td>0</td>\n",
       "    </tr>\n",
       "  </tbody>\n",
       "</table>\n",
       "</div>"
      ],
      "text/plain": [
       "             Domain  Have_IP  Have_At  URL_Length  URL_Depth  Redirection  \\\n",
       "0  graphicriver.net        0        0           1          1            0   \n",
       "1         ecnavi.jp        0        0           1          1            1   \n",
       "2      hubpages.com        0        0           1          1            0   \n",
       "3   extratorrent.cc        0        0           1          3            0   \n",
       "4     icicibank.com        0        0           1          3            0   \n",
       "\n",
       "   https_Domain  TinyURL  Prefix/Suffix  DNS_Record  Web_Traffic  Domain_Age  \\\n",
       "0             0        0              0           0            1           1   \n",
       "1             0        0              0           0            1           1   \n",
       "2             0        0              0           0            1           0   \n",
       "3             0        0              0           0            1           0   \n",
       "4             0        0              0           0            1           0   \n",
       "\n",
       "   Domain_End  iFrame  Mouse_Over  Right_Click  Web_Forwards  Label  \n",
       "0           1       0           0            1             0      0  \n",
       "1           1       0           0            1             0      0  \n",
       "2           1       0           0            1             0      0  \n",
       "3           1       0           0            1             0      0  \n",
       "4           1       0           0            1             0      0  "
      ]
     },
     "execution_count": 41,
     "metadata": {},
     "output_type": "execute_result"
    }
   ],
   "source": [
    "data = pd.read_csv('/kaggle/input/urldata/urldata.csv')\n",
    "data.head()"
   ]
  },
  {
   "cell_type": "code",
   "execution_count": 42,
   "id": "c29eb840",
   "metadata": {
    "execution": {
     "iopub.execute_input": "2024-08-17T07:22:44.208604Z",
     "iopub.status.busy": "2024-08-17T07:22:44.208292Z",
     "iopub.status.idle": "2024-08-17T07:22:44.897557Z",
     "shell.execute_reply": "2024-08-17T07:22:44.896521Z"
    },
    "papermill": {
     "duration": 0.713056,
     "end_time": "2024-08-17T07:22:44.899542",
     "exception": false,
     "start_time": "2024-08-17T07:22:44.186486",
     "status": "completed"
    },
    "tags": []
   },
   "outputs": [
    {
     "name": "stdout",
     "output_type": "stream",
     "text": [
      "Domain age in days: 5114\n"
     ]
    }
   ],
   "source": [
    "from datetime import datetime\n",
    "\n",
    "def domain_age(domain_name):\n",
    "    domain_name = whois.whois(domain_name)\n",
    "    creation_date = domain_name.creation_date\n",
    "    expiration_date = domain_name.expiration_date\n",
    "    \n",
    "    # Convert dates from string if necessary\n",
    "    if isinstance(creation_date, str) or isinstance(expiration_date, str):\n",
    "        try:\n",
    "            creation_date = datetime.strptime(creation_date, '%Y-%m-%d')\n",
    "            expiration_date = datetime.strptime(expiration_date, \"%Y-%m-%d\")\n",
    "        except:\n",
    "            return -1  # Indicates an error in date parsing\n",
    "    \n",
    "    # Handle cases where dates might be None or lists\n",
    "    if creation_date is None or expiration_date is None:\n",
    "        return -1  # Indicates missing date information\n",
    "    if isinstance(creation_date, list) or isinstance(expiration_date, list):\n",
    "        return -1  # Indicates date is a list rather than a single datetime object\n",
    "    \n",
    "    # Calculate the age of the domain in days\n",
    "    try:\n",
    "        age_of_domain = (expiration_date - creation_date).days\n",
    "        return age_of_domain\n",
    "    except:\n",
    "        return -1  # Indicates an error in date calculation\n",
    "\n",
    "\n",
    "# Get domain age in days\n",
    "age = domain_age(data['Domain'][3])\n",
    "print(f\"Domain age in days: {age}\")\n"
   ]
  },
  {
   "cell_type": "code",
   "execution_count": 43,
   "id": "acde1f50",
   "metadata": {
    "execution": {
     "iopub.execute_input": "2024-08-17T07:22:44.943826Z",
     "iopub.status.busy": "2024-08-17T07:22:44.943211Z",
     "iopub.status.idle": "2024-08-17T07:22:44.948851Z",
     "shell.execute_reply": "2024-08-17T07:22:44.948046Z"
    },
    "papermill": {
     "duration": 0.029985,
     "end_time": "2024-08-17T07:22:44.950890",
     "exception": false,
     "start_time": "2024-08-17T07:22:44.920905",
     "status": "completed"
    },
    "tags": []
   },
   "outputs": [],
   "source": [
    "data.drop(columns = ['TinyURL', 'Web_Traffic', 'Domain_End', 'iFrame', 'Mouse_Over', 'Right_Click', 'Web_Forwards'], inplace = True)"
   ]
  },
  {
   "cell_type": "code",
   "execution_count": 44,
   "id": "01b3195d",
   "metadata": {
    "execution": {
     "iopub.execute_input": "2024-08-17T07:22:44.995684Z",
     "iopub.status.busy": "2024-08-17T07:22:44.994972Z",
     "iopub.status.idle": "2024-08-17T07:22:45.007710Z",
     "shell.execute_reply": "2024-08-17T07:22:45.006841Z"
    },
    "papermill": {
     "duration": 0.037926,
     "end_time": "2024-08-17T07:22:45.010265",
     "exception": false,
     "start_time": "2024-08-17T07:22:44.972339",
     "status": "completed"
    },
    "tags": []
   },
   "outputs": [
    {
     "data": {
      "text/html": [
       "<div>\n",
       "<style scoped>\n",
       "    .dataframe tbody tr th:only-of-type {\n",
       "        vertical-align: middle;\n",
       "    }\n",
       "\n",
       "    .dataframe tbody tr th {\n",
       "        vertical-align: top;\n",
       "    }\n",
       "\n",
       "    .dataframe thead th {\n",
       "        text-align: right;\n",
       "    }\n",
       "</style>\n",
       "<table border=\"1\" class=\"dataframe\">\n",
       "  <thead>\n",
       "    <tr style=\"text-align: right;\">\n",
       "      <th></th>\n",
       "      <th>Domain</th>\n",
       "      <th>Have_IP</th>\n",
       "      <th>Have_At</th>\n",
       "      <th>URL_Length</th>\n",
       "      <th>URL_Depth</th>\n",
       "      <th>Redirection</th>\n",
       "      <th>https_Domain</th>\n",
       "      <th>Prefix/Suffix</th>\n",
       "      <th>DNS_Record</th>\n",
       "      <th>Domain_Age</th>\n",
       "      <th>Label</th>\n",
       "    </tr>\n",
       "  </thead>\n",
       "  <tbody>\n",
       "    <tr>\n",
       "      <th>0</th>\n",
       "      <td>graphicriver.net</td>\n",
       "      <td>0</td>\n",
       "      <td>0</td>\n",
       "      <td>1</td>\n",
       "      <td>1</td>\n",
       "      <td>0</td>\n",
       "      <td>0</td>\n",
       "      <td>0</td>\n",
       "      <td>0</td>\n",
       "      <td>1</td>\n",
       "      <td>0</td>\n",
       "    </tr>\n",
       "    <tr>\n",
       "      <th>1</th>\n",
       "      <td>ecnavi.jp</td>\n",
       "      <td>0</td>\n",
       "      <td>0</td>\n",
       "      <td>1</td>\n",
       "      <td>1</td>\n",
       "      <td>1</td>\n",
       "      <td>0</td>\n",
       "      <td>0</td>\n",
       "      <td>0</td>\n",
       "      <td>1</td>\n",
       "      <td>0</td>\n",
       "    </tr>\n",
       "    <tr>\n",
       "      <th>2</th>\n",
       "      <td>hubpages.com</td>\n",
       "      <td>0</td>\n",
       "      <td>0</td>\n",
       "      <td>1</td>\n",
       "      <td>1</td>\n",
       "      <td>0</td>\n",
       "      <td>0</td>\n",
       "      <td>0</td>\n",
       "      <td>0</td>\n",
       "      <td>0</td>\n",
       "      <td>0</td>\n",
       "    </tr>\n",
       "    <tr>\n",
       "      <th>3</th>\n",
       "      <td>extratorrent.cc</td>\n",
       "      <td>0</td>\n",
       "      <td>0</td>\n",
       "      <td>1</td>\n",
       "      <td>3</td>\n",
       "      <td>0</td>\n",
       "      <td>0</td>\n",
       "      <td>0</td>\n",
       "      <td>0</td>\n",
       "      <td>0</td>\n",
       "      <td>0</td>\n",
       "    </tr>\n",
       "    <tr>\n",
       "      <th>4</th>\n",
       "      <td>icicibank.com</td>\n",
       "      <td>0</td>\n",
       "      <td>0</td>\n",
       "      <td>1</td>\n",
       "      <td>3</td>\n",
       "      <td>0</td>\n",
       "      <td>0</td>\n",
       "      <td>0</td>\n",
       "      <td>0</td>\n",
       "      <td>0</td>\n",
       "      <td>0</td>\n",
       "    </tr>\n",
       "  </tbody>\n",
       "</table>\n",
       "</div>"
      ],
      "text/plain": [
       "             Domain  Have_IP  Have_At  URL_Length  URL_Depth  Redirection  \\\n",
       "0  graphicriver.net        0        0           1          1            0   \n",
       "1         ecnavi.jp        0        0           1          1            1   \n",
       "2      hubpages.com        0        0           1          1            0   \n",
       "3   extratorrent.cc        0        0           1          3            0   \n",
       "4     icicibank.com        0        0           1          3            0   \n",
       "\n",
       "   https_Domain  Prefix/Suffix  DNS_Record  Domain_Age  Label  \n",
       "0             0              0           0           1      0  \n",
       "1             0              0           0           1      0  \n",
       "2             0              0           0           0      0  \n",
       "3             0              0           0           0      0  \n",
       "4             0              0           0           0      0  "
      ]
     },
     "execution_count": 44,
     "metadata": {},
     "output_type": "execute_result"
    }
   ],
   "source": [
    "data.head()"
   ]
  },
  {
   "cell_type": "code",
   "execution_count": 45,
   "id": "7ccef624",
   "metadata": {
    "execution": {
     "iopub.execute_input": "2024-08-17T07:22:45.057753Z",
     "iopub.status.busy": "2024-08-17T07:22:45.056973Z",
     "iopub.status.idle": "2024-08-17T07:22:45.062289Z",
     "shell.execute_reply": "2024-08-17T07:22:45.061414Z"
    },
    "papermill": {
     "duration": 0.030466,
     "end_time": "2024-08-17T07:22:45.064364",
     "exception": false,
     "start_time": "2024-08-17T07:22:45.033898",
     "status": "completed"
    },
    "tags": []
   },
   "outputs": [],
   "source": [
    "x = data.iloc[:, 1: -1]\n",
    "y = data.iloc[:,-1]"
   ]
  },
  {
   "cell_type": "code",
   "execution_count": 46,
   "id": "53dce750",
   "metadata": {
    "execution": {
     "iopub.execute_input": "2024-08-17T07:22:45.108389Z",
     "iopub.status.busy": "2024-08-17T07:22:45.108088Z",
     "iopub.status.idle": "2024-08-17T07:22:45.120971Z",
     "shell.execute_reply": "2024-08-17T07:22:45.120106Z"
    },
    "papermill": {
     "duration": 0.037675,
     "end_time": "2024-08-17T07:22:45.123460",
     "exception": false,
     "start_time": "2024-08-17T07:22:45.085785",
     "status": "completed"
    },
    "tags": []
   },
   "outputs": [
    {
     "data": {
      "text/html": [
       "<div>\n",
       "<style scoped>\n",
       "    .dataframe tbody tr th:only-of-type {\n",
       "        vertical-align: middle;\n",
       "    }\n",
       "\n",
       "    .dataframe tbody tr th {\n",
       "        vertical-align: top;\n",
       "    }\n",
       "\n",
       "    .dataframe thead th {\n",
       "        text-align: right;\n",
       "    }\n",
       "</style>\n",
       "<table border=\"1\" class=\"dataframe\">\n",
       "  <thead>\n",
       "    <tr style=\"text-align: right;\">\n",
       "      <th></th>\n",
       "      <th>Have_IP</th>\n",
       "      <th>Have_At</th>\n",
       "      <th>URL_Length</th>\n",
       "      <th>URL_Depth</th>\n",
       "      <th>Redirection</th>\n",
       "      <th>https_Domain</th>\n",
       "      <th>Prefix/Suffix</th>\n",
       "      <th>DNS_Record</th>\n",
       "      <th>Domain_Age</th>\n",
       "    </tr>\n",
       "  </thead>\n",
       "  <tbody>\n",
       "    <tr>\n",
       "      <th>0</th>\n",
       "      <td>0</td>\n",
       "      <td>0</td>\n",
       "      <td>1</td>\n",
       "      <td>1</td>\n",
       "      <td>0</td>\n",
       "      <td>0</td>\n",
       "      <td>0</td>\n",
       "      <td>0</td>\n",
       "      <td>1</td>\n",
       "    </tr>\n",
       "    <tr>\n",
       "      <th>1</th>\n",
       "      <td>0</td>\n",
       "      <td>0</td>\n",
       "      <td>1</td>\n",
       "      <td>1</td>\n",
       "      <td>1</td>\n",
       "      <td>0</td>\n",
       "      <td>0</td>\n",
       "      <td>0</td>\n",
       "      <td>1</td>\n",
       "    </tr>\n",
       "    <tr>\n",
       "      <th>2</th>\n",
       "      <td>0</td>\n",
       "      <td>0</td>\n",
       "      <td>1</td>\n",
       "      <td>1</td>\n",
       "      <td>0</td>\n",
       "      <td>0</td>\n",
       "      <td>0</td>\n",
       "      <td>0</td>\n",
       "      <td>0</td>\n",
       "    </tr>\n",
       "    <tr>\n",
       "      <th>3</th>\n",
       "      <td>0</td>\n",
       "      <td>0</td>\n",
       "      <td>1</td>\n",
       "      <td>3</td>\n",
       "      <td>0</td>\n",
       "      <td>0</td>\n",
       "      <td>0</td>\n",
       "      <td>0</td>\n",
       "      <td>0</td>\n",
       "    </tr>\n",
       "    <tr>\n",
       "      <th>4</th>\n",
       "      <td>0</td>\n",
       "      <td>0</td>\n",
       "      <td>1</td>\n",
       "      <td>3</td>\n",
       "      <td>0</td>\n",
       "      <td>0</td>\n",
       "      <td>0</td>\n",
       "      <td>0</td>\n",
       "      <td>0</td>\n",
       "    </tr>\n",
       "    <tr>\n",
       "      <th>...</th>\n",
       "      <td>...</td>\n",
       "      <td>...</td>\n",
       "      <td>...</td>\n",
       "      <td>...</td>\n",
       "      <td>...</td>\n",
       "      <td>...</td>\n",
       "      <td>...</td>\n",
       "      <td>...</td>\n",
       "      <td>...</td>\n",
       "    </tr>\n",
       "    <tr>\n",
       "      <th>9995</th>\n",
       "      <td>0</td>\n",
       "      <td>0</td>\n",
       "      <td>1</td>\n",
       "      <td>5</td>\n",
       "      <td>0</td>\n",
       "      <td>0</td>\n",
       "      <td>1</td>\n",
       "      <td>0</td>\n",
       "      <td>1</td>\n",
       "    </tr>\n",
       "    <tr>\n",
       "      <th>9996</th>\n",
       "      <td>0</td>\n",
       "      <td>0</td>\n",
       "      <td>1</td>\n",
       "      <td>4</td>\n",
       "      <td>0</td>\n",
       "      <td>0</td>\n",
       "      <td>0</td>\n",
       "      <td>0</td>\n",
       "      <td>0</td>\n",
       "    </tr>\n",
       "    <tr>\n",
       "      <th>9997</th>\n",
       "      <td>0</td>\n",
       "      <td>1</td>\n",
       "      <td>1</td>\n",
       "      <td>3</td>\n",
       "      <td>0</td>\n",
       "      <td>0</td>\n",
       "      <td>0</td>\n",
       "      <td>0</td>\n",
       "      <td>1</td>\n",
       "    </tr>\n",
       "    <tr>\n",
       "      <th>9998</th>\n",
       "      <td>0</td>\n",
       "      <td>0</td>\n",
       "      <td>1</td>\n",
       "      <td>5</td>\n",
       "      <td>0</td>\n",
       "      <td>0</td>\n",
       "      <td>1</td>\n",
       "      <td>0</td>\n",
       "      <td>1</td>\n",
       "    </tr>\n",
       "    <tr>\n",
       "      <th>9999</th>\n",
       "      <td>0</td>\n",
       "      <td>1</td>\n",
       "      <td>1</td>\n",
       "      <td>4</td>\n",
       "      <td>0</td>\n",
       "      <td>0</td>\n",
       "      <td>1</td>\n",
       "      <td>0</td>\n",
       "      <td>1</td>\n",
       "    </tr>\n",
       "  </tbody>\n",
       "</table>\n",
       "<p>10000 rows × 9 columns</p>\n",
       "</div>"
      ],
      "text/plain": [
       "      Have_IP  Have_At  URL_Length  URL_Depth  Redirection  https_Domain  \\\n",
       "0           0        0           1          1            0             0   \n",
       "1           0        0           1          1            1             0   \n",
       "2           0        0           1          1            0             0   \n",
       "3           0        0           1          3            0             0   \n",
       "4           0        0           1          3            0             0   \n",
       "...       ...      ...         ...        ...          ...           ...   \n",
       "9995        0        0           1          5            0             0   \n",
       "9996        0        0           1          4            0             0   \n",
       "9997        0        1           1          3            0             0   \n",
       "9998        0        0           1          5            0             0   \n",
       "9999        0        1           1          4            0             0   \n",
       "\n",
       "      Prefix/Suffix  DNS_Record  Domain_Age  \n",
       "0                 0           0           1  \n",
       "1                 0           0           1  \n",
       "2                 0           0           0  \n",
       "3                 0           0           0  \n",
       "4                 0           0           0  \n",
       "...             ...         ...         ...  \n",
       "9995              1           0           1  \n",
       "9996              0           0           0  \n",
       "9997              0           0           1  \n",
       "9998              1           0           1  \n",
       "9999              1           0           1  \n",
       "\n",
       "[10000 rows x 9 columns]"
      ]
     },
     "execution_count": 46,
     "metadata": {},
     "output_type": "execute_result"
    }
   ],
   "source": [
    "x"
   ]
  },
  {
   "cell_type": "code",
   "execution_count": 47,
   "id": "c538fcd6",
   "metadata": {
    "execution": {
     "iopub.execute_input": "2024-08-17T07:22:45.168540Z",
     "iopub.status.busy": "2024-08-17T07:22:45.168209Z",
     "iopub.status.idle": "2024-08-17T07:22:45.173821Z",
     "shell.execute_reply": "2024-08-17T07:22:45.172946Z"
    },
    "papermill": {
     "duration": 0.030056,
     "end_time": "2024-08-17T07:22:45.175715",
     "exception": false,
     "start_time": "2024-08-17T07:22:45.145659",
     "status": "completed"
    },
    "tags": []
   },
   "outputs": [
    {
     "data": {
      "text/plain": [
       "(10000,)"
      ]
     },
     "execution_count": 47,
     "metadata": {},
     "output_type": "execute_result"
    }
   ],
   "source": [
    "y.shape"
   ]
  },
  {
   "cell_type": "code",
   "execution_count": 48,
   "id": "2a5fd965",
   "metadata": {
    "execution": {
     "iopub.execute_input": "2024-08-17T07:22:45.222700Z",
     "iopub.status.busy": "2024-08-17T07:22:45.221732Z",
     "iopub.status.idle": "2024-08-17T07:22:45.421222Z",
     "shell.execute_reply": "2024-08-17T07:22:45.420214Z"
    },
    "papermill": {
     "duration": 0.226196,
     "end_time": "2024-08-17T07:22:45.423613",
     "exception": false,
     "start_time": "2024-08-17T07:22:45.197417",
     "status": "completed"
    },
    "tags": []
   },
   "outputs": [],
   "source": [
    "from sklearn.model_selection import train_test_split"
   ]
  },
  {
   "cell_type": "code",
   "execution_count": 49,
   "id": "9533697f",
   "metadata": {
    "execution": {
     "iopub.execute_input": "2024-08-17T07:22:45.470196Z",
     "iopub.status.busy": "2024-08-17T07:22:45.469846Z",
     "iopub.status.idle": "2024-08-17T07:22:45.481585Z",
     "shell.execute_reply": "2024-08-17T07:22:45.480900Z"
    },
    "papermill": {
     "duration": 0.036781,
     "end_time": "2024-08-17T07:22:45.483489",
     "exception": false,
     "start_time": "2024-08-17T07:22:45.446708",
     "status": "completed"
    },
    "tags": []
   },
   "outputs": [],
   "source": [
    "x_train, x_test, y_train, y_test = train_test_split(x, y , test_size=0.2, stratify=data['Label'], random_state=42)"
   ]
  },
  {
   "cell_type": "code",
   "execution_count": 50,
   "id": "dd981dfe",
   "metadata": {
    "execution": {
     "iopub.execute_input": "2024-08-17T07:22:45.528117Z",
     "iopub.status.busy": "2024-08-17T07:22:45.527802Z",
     "iopub.status.idle": "2024-08-17T07:22:45.843377Z",
     "shell.execute_reply": "2024-08-17T07:22:45.842601Z"
    },
    "papermill": {
     "duration": 0.340598,
     "end_time": "2024-08-17T07:22:45.845734",
     "exception": false,
     "start_time": "2024-08-17T07:22:45.505136",
     "status": "completed"
    },
    "tags": []
   },
   "outputs": [],
   "source": [
    "from sklearn.linear_model import LogisticRegression\n",
    "from sklearn.tree import DecisionTreeClassifier\n",
    "from sklearn.ensemble import RandomForestClassifier, GradientBoostingClassifier\n",
    "from xgboost import XGBClassifier\n",
    "from sklearn.metrics import accuracy_score, classification_report, confusion_matrix"
   ]
  },
  {
   "cell_type": "code",
   "execution_count": 51,
   "id": "ebe5efbf",
   "metadata": {
    "execution": {
     "iopub.execute_input": "2024-08-17T07:22:45.893540Z",
     "iopub.status.busy": "2024-08-17T07:22:45.893222Z",
     "iopub.status.idle": "2024-08-17T07:22:47.056331Z",
     "shell.execute_reply": "2024-08-17T07:22:47.055317Z"
    },
    "papermill": {
     "duration": 1.189768,
     "end_time": "2024-08-17T07:22:47.058455",
     "exception": false,
     "start_time": "2024-08-17T07:22:45.868687",
     "status": "completed"
    },
    "tags": []
   },
   "outputs": [
    {
     "name": "stdout",
     "output_type": "stream",
     "text": [
      "Logistic Regression Accuracy: 0.7765\n",
      "Classification Report for Logistic Regression:\n",
      "              precision    recall  f1-score   support\n",
      "\n",
      "           0       0.70      0.96      0.81      1000\n",
      "           1       0.93      0.60      0.73      1000\n",
      "\n",
      "    accuracy                           0.78      2000\n",
      "   macro avg       0.82      0.78      0.77      2000\n",
      "weighted avg       0.82      0.78      0.77      2000\n",
      "\n",
      "\n",
      "Confusion Matrix for Logistic Regression:\n",
      "[[956  44]\n",
      " [403 597]]\n",
      "\n",
      "Decision Tree Accuracy: 0.8065\n",
      "Classification Report for Decision Tree:\n",
      "              precision    recall  f1-score   support\n",
      "\n",
      "           0       0.77      0.87      0.82      1000\n",
      "           1       0.85      0.74      0.79      1000\n",
      "\n",
      "    accuracy                           0.81      2000\n",
      "   macro avg       0.81      0.81      0.81      2000\n",
      "weighted avg       0.81      0.81      0.81      2000\n",
      "\n",
      "\n",
      "Confusion Matrix for Decision Tree:\n",
      "[[869 131]\n",
      " [256 744]]\n",
      "\n",
      "Random Forest Accuracy: 0.8065\n",
      "Classification Report for Random Forest:\n",
      "              precision    recall  f1-score   support\n",
      "\n",
      "           0       0.77      0.87      0.82      1000\n",
      "           1       0.85      0.74      0.79      1000\n",
      "\n",
      "    accuracy                           0.81      2000\n",
      "   macro avg       0.81      0.81      0.81      2000\n",
      "weighted avg       0.81      0.81      0.81      2000\n",
      "\n",
      "\n",
      "Confusion Matrix for Random Forest:\n",
      "[[869 131]\n",
      " [256 744]]\n",
      "\n",
      "Gradient Boosting Accuracy: 0.8105\n",
      "Classification Report for Gradient Boosting:\n",
      "              precision    recall  f1-score   support\n",
      "\n",
      "           0       0.77      0.88      0.82      1000\n",
      "           1       0.86      0.74      0.80      1000\n",
      "\n",
      "    accuracy                           0.81      2000\n",
      "   macro avg       0.82      0.81      0.81      2000\n",
      "weighted avg       0.82      0.81      0.81      2000\n",
      "\n",
      "\n",
      "Confusion Matrix for Gradient Boosting:\n",
      "[[881 119]\n",
      " [260 740]]\n",
      "\n",
      "XGBoost Accuracy: 0.8055\n",
      "Classification Report for XGBoost:\n",
      "              precision    recall  f1-score   support\n",
      "\n",
      "           0       0.76      0.89      0.82      1000\n",
      "           1       0.87      0.72      0.79      1000\n",
      "\n",
      "    accuracy                           0.81      2000\n",
      "   macro avg       0.81      0.81      0.80      2000\n",
      "weighted avg       0.81      0.81      0.80      2000\n",
      "\n",
      "\n",
      "Confusion Matrix for XGBoost:\n",
      "[[889 111]\n",
      " [278 722]]\n",
      "\n"
     ]
    }
   ],
   "source": [
    "models = {\n",
    "    \"Logistic Regression\": LogisticRegression(max_iter=1000),\n",
    "    \"Decision Tree\": DecisionTreeClassifier(),\n",
    "    \"Random Forest\": RandomForestClassifier(),\n",
    "    \"Gradient Boosting\": GradientBoostingClassifier(),\n",
    "    \"XGBoost\": XGBClassifier(use_label_encoder=False, eval_metric='logloss')\n",
    "}\n",
    "\n",
    "# Train and evaluate each model\n",
    "for name, model in models.items():\n",
    "    # Train the model\n",
    "    model.fit(x_train, y_train)\n",
    "    \n",
    "    # Make predictions\n",
    "    y_pred = model.predict(x_test)\n",
    "    \n",
    "    # Evaluate the model\n",
    "    accuracy = accuracy_score(y_test, y_pred)\n",
    "    print(f\"{name} Accuracy: {accuracy:.4f}\")\n",
    "    print(f\"Classification Report for {name}:\\n{classification_report(y_test, y_pred)}\\n\")\n",
    "    print(f\"Confusion Matrix for {name}:\\n{confusion_matrix(y_test, y_pred)}\\n\")\n"
   ]
  },
  {
   "cell_type": "code",
   "execution_count": 52,
   "id": "8162564a",
   "metadata": {
    "execution": {
     "iopub.execute_input": "2024-08-17T07:22:47.104376Z",
     "iopub.status.busy": "2024-08-17T07:22:47.104075Z",
     "iopub.status.idle": "2024-08-17T07:22:47.108315Z",
     "shell.execute_reply": "2024-08-17T07:22:47.107391Z"
    },
    "papermill": {
     "duration": 0.029345,
     "end_time": "2024-08-17T07:22:47.110415",
     "exception": false,
     "start_time": "2024-08-17T07:22:47.081070",
     "status": "completed"
    },
    "tags": []
   },
   "outputs": [],
   "source": [
    "from sklearn.model_selection import StratifiedKFold"
   ]
  },
  {
   "cell_type": "code",
   "execution_count": 53,
   "id": "dca55b02",
   "metadata": {
    "execution": {
     "iopub.execute_input": "2024-08-17T07:22:47.155717Z",
     "iopub.status.busy": "2024-08-17T07:22:47.155415Z",
     "iopub.status.idle": "2024-08-17T07:22:52.349503Z",
     "shell.execute_reply": "2024-08-17T07:22:52.348569Z"
    },
    "papermill": {
     "duration": 5.219368,
     "end_time": "2024-08-17T07:22:52.351839",
     "exception": false,
     "start_time": "2024-08-17T07:22:47.132471",
     "status": "completed"
    },
    "tags": []
   },
   "outputs": [
    {
     "name": "stdout",
     "output_type": "stream",
     "text": [
      "Average Accuracy for Logistic Regression: 0.7854\n",
      "Average Accuracy for Decision Tree: 0.8075\n",
      "Average Accuracy for Random Forest: 0.8089\n",
      "Average Accuracy for Gradient Boosting: 0.8078\n",
      "Average Accuracy for XGBoost: 0.8059\n"
     ]
    }
   ],
   "source": [
    "avg_accuracies = {name: [] for name in models.keys()}\n",
    "\n",
    "# Initialize StratifiedKFold with 5 splits\n",
    "kf = StratifiedKFold(n_splits=5, shuffle=True, random_state=42)\n",
    "\n",
    "# Perform 5-fold cross-validation\n",
    "for train_index, test_index in kf.split(x, y):\n",
    "    X_train, X_test = x.iloc[train_index], x.iloc[test_index]\n",
    "    y_train, y_test = y.iloc[train_index], y.iloc[test_index]\n",
    "    \n",
    "    for name, model in models.items():\n",
    "        # Train the model\n",
    "        model.fit(X_train, y_train)\n",
    "        \n",
    "        # Make predictions\n",
    "        y_pred = model.predict(X_test)\n",
    "        \n",
    "        # Evaluate the model\n",
    "        accuracy = accuracy_score(y_test, y_pred)\n",
    "        avg_accuracies[name].append(accuracy)\n",
    "\n",
    "# Calculate the average accuracy for each model\n",
    "for name in avg_accuracies.keys():\n",
    "    avg_accuracy = np.mean(avg_accuracies[name])\n",
    "    print(f\"Average Accuracy for {name}: {avg_accuracy:.4f}\")"
   ]
  },
  {
   "cell_type": "code",
   "execution_count": 54,
   "id": "528f455d",
   "metadata": {
    "execution": {
     "iopub.execute_input": "2024-08-17T07:22:52.401587Z",
     "iopub.status.busy": "2024-08-17T07:22:52.401224Z",
     "iopub.status.idle": "2024-08-17T07:22:52.407396Z",
     "shell.execute_reply": "2024-08-17T07:22:52.406679Z"
    },
    "papermill": {
     "duration": 0.031784,
     "end_time": "2024-08-17T07:22:52.409298",
     "exception": false,
     "start_time": "2024-08-17T07:22:52.377514",
     "status": "completed"
    },
    "tags": []
   },
   "outputs": [],
   "source": [
    "from sklearn.pipeline import Pipeline\n",
    "from sklearn.preprocessing import StandardScaler"
   ]
  },
  {
   "cell_type": "code",
   "execution_count": 55,
   "id": "8d3730ee",
   "metadata": {
    "execution": {
     "iopub.execute_input": "2024-08-17T07:22:52.456838Z",
     "iopub.status.busy": "2024-08-17T07:22:52.456506Z",
     "iopub.status.idle": "2024-08-17T07:22:56.884497Z",
     "shell.execute_reply": "2024-08-17T07:22:56.883581Z"
    },
    "papermill": {
     "duration": 4.453581,
     "end_time": "2024-08-17T07:22:56.886492",
     "exception": false,
     "start_time": "2024-08-17T07:22:52.432911",
     "status": "completed"
    },
    "tags": []
   },
   "outputs": [
    {
     "name": "stdout",
     "output_type": "stream",
     "text": [
      "Average Accuracy for Logistic Regression: 0.7864\n",
      "Average Accuracy for Decision_Tree: 0.8079\n",
      "Average Accuracy for Random Forest: 0.8066\n",
      "Average Accuracy for Gradient Boosting: 0.8078\n",
      "Average Accuracy for XGBoost: 0.8061\n",
      "\n",
      "Best Model: Decision_Tree with Average Accuracy: 0.8079\n"
     ]
    }
   ],
   "source": [
    "models = {\n",
    "    \"Logistic Regression\": Pipeline([\n",
    "        ('scaler', StandardScaler()), \n",
    "        ('clf', LogisticRegression(max_iter=1000, penalty='l2', C=1.0))\n",
    "    ]),\n",
    "    \"Decision_Tree\": Pipeline([\n",
    "        ('clf', DecisionTreeClassifier(max_depth=10, min_samples_split=10))\n",
    "    ]),\n",
    "    \"Random Forest\": Pipeline([\n",
    "        ('clf', RandomForestClassifier(n_estimators=100, max_depth=10, min_samples_split=10))\n",
    "    ]),\n",
    "    \"Gradient Boosting\": Pipeline([\n",
    "        ('clf', GradientBoostingClassifier(n_estimators=100, learning_rate=0.1, max_depth=3))\n",
    "    ]),\n",
    "    \"XGBoost\": Pipeline([\n",
    "        ('clf', XGBClassifier(use_label_encoder=False, eval_metric='logloss', n_estimators=100, max_depth=3, learning_rate=0.1))\n",
    "    ])\n",
    "}\n",
    "\n",
    "# Initialize a dictionary to store average accuracies\n",
    "avg_accuracies = {name: [] for name in models.keys()}\n",
    "\n",
    "# Initialize StratifiedKFold with 5 splits\n",
    "kf = StratifiedKFold(n_splits=5, shuffle=True, random_state=42)\n",
    "\n",
    "# Perform 5-fold cross-validation\n",
    "for train_index, test_index in kf.split(x, y):\n",
    "    X_train, X_test = x.iloc[train_index], x.iloc[test_index]\n",
    "    y_train, y_test = y.iloc[train_index], y.iloc[test_index]\n",
    "    \n",
    "    for name, model in models.items():\n",
    "        # Train the model\n",
    "        model.fit(X_train, y_train)\n",
    "        \n",
    "        # Make predictions\n",
    "        y_pred = model.predict(X_test)\n",
    "        \n",
    "        # Evaluate the model\n",
    "        accuracy = accuracy_score(y_test, y_pred)\n",
    "        avg_accuracies[name].append(accuracy)\n",
    "\n",
    "# Calculate the average accuracy for each model\n",
    "for name in avg_accuracies.keys():\n",
    "    avg_accuracy = np.mean(avg_accuracies[name])\n",
    "    print(f\"Average Accuracy for {name}: {avg_accuracy:.4f}\")\n",
    "\n",
    "# Find the best model based on average accuracy\n",
    "best_model_name = max(avg_accuracies, key=lambda k: np.mean(avg_accuracies[k]))\n",
    "best_model_avg_accuracy = np.mean(avg_accuracies[best_model_name])\n",
    "\n",
    "print(f\"\\nBest Model: {best_model_name} with Average Accuracy: {best_model_avg_accuracy:.4f}\")\n"
   ]
  },
  {
   "cell_type": "code",
   "execution_count": 56,
   "id": "c4ca0941",
   "metadata": {
    "execution": {
     "iopub.execute_input": "2024-08-17T07:22:56.934409Z",
     "iopub.status.busy": "2024-08-17T07:22:56.934049Z",
     "iopub.status.idle": "2024-08-17T07:22:56.952441Z",
     "shell.execute_reply": "2024-08-17T07:22:56.951583Z"
    },
    "papermill": {
     "duration": 0.043661,
     "end_time": "2024-08-17T07:22:56.954419",
     "exception": false,
     "start_time": "2024-08-17T07:22:56.910758",
     "status": "completed"
    },
    "tags": []
   },
   "outputs": [
    {
     "data": {
      "text/html": [
       "<style>#sk-container-id-1 {color: black;background-color: white;}#sk-container-id-1 pre{padding: 0;}#sk-container-id-1 div.sk-toggleable {background-color: white;}#sk-container-id-1 label.sk-toggleable__label {cursor: pointer;display: block;width: 100%;margin-bottom: 0;padding: 0.3em;box-sizing: border-box;text-align: center;}#sk-container-id-1 label.sk-toggleable__label-arrow:before {content: \"▸\";float: left;margin-right: 0.25em;color: #696969;}#sk-container-id-1 label.sk-toggleable__label-arrow:hover:before {color: black;}#sk-container-id-1 div.sk-estimator:hover label.sk-toggleable__label-arrow:before {color: black;}#sk-container-id-1 div.sk-toggleable__content {max-height: 0;max-width: 0;overflow: hidden;text-align: left;background-color: #f0f8ff;}#sk-container-id-1 div.sk-toggleable__content pre {margin: 0.2em;color: black;border-radius: 0.25em;background-color: #f0f8ff;}#sk-container-id-1 input.sk-toggleable__control:checked~div.sk-toggleable__content {max-height: 200px;max-width: 100%;overflow: auto;}#sk-container-id-1 input.sk-toggleable__control:checked~label.sk-toggleable__label-arrow:before {content: \"▾\";}#sk-container-id-1 div.sk-estimator input.sk-toggleable__control:checked~label.sk-toggleable__label {background-color: #d4ebff;}#sk-container-id-1 div.sk-label input.sk-toggleable__control:checked~label.sk-toggleable__label {background-color: #d4ebff;}#sk-container-id-1 input.sk-hidden--visually {border: 0;clip: rect(1px 1px 1px 1px);clip: rect(1px, 1px, 1px, 1px);height: 1px;margin: -1px;overflow: hidden;padding: 0;position: absolute;width: 1px;}#sk-container-id-1 div.sk-estimator {font-family: monospace;background-color: #f0f8ff;border: 1px dotted black;border-radius: 0.25em;box-sizing: border-box;margin-bottom: 0.5em;}#sk-container-id-1 div.sk-estimator:hover {background-color: #d4ebff;}#sk-container-id-1 div.sk-parallel-item::after {content: \"\";width: 100%;border-bottom: 1px solid gray;flex-grow: 1;}#sk-container-id-1 div.sk-label:hover label.sk-toggleable__label {background-color: #d4ebff;}#sk-container-id-1 div.sk-serial::before {content: \"\";position: absolute;border-left: 1px solid gray;box-sizing: border-box;top: 0;bottom: 0;left: 50%;z-index: 0;}#sk-container-id-1 div.sk-serial {display: flex;flex-direction: column;align-items: center;background-color: white;padding-right: 0.2em;padding-left: 0.2em;position: relative;}#sk-container-id-1 div.sk-item {position: relative;z-index: 1;}#sk-container-id-1 div.sk-parallel {display: flex;align-items: stretch;justify-content: center;background-color: white;position: relative;}#sk-container-id-1 div.sk-item::before, #sk-container-id-1 div.sk-parallel-item::before {content: \"\";position: absolute;border-left: 1px solid gray;box-sizing: border-box;top: 0;bottom: 0;left: 50%;z-index: -1;}#sk-container-id-1 div.sk-parallel-item {display: flex;flex-direction: column;z-index: 1;position: relative;background-color: white;}#sk-container-id-1 div.sk-parallel-item:first-child::after {align-self: flex-end;width: 50%;}#sk-container-id-1 div.sk-parallel-item:last-child::after {align-self: flex-start;width: 50%;}#sk-container-id-1 div.sk-parallel-item:only-child::after {width: 0;}#sk-container-id-1 div.sk-dashed-wrapped {border: 1px dashed gray;margin: 0 0.4em 0.5em 0.4em;box-sizing: border-box;padding-bottom: 0.4em;background-color: white;}#sk-container-id-1 div.sk-label label {font-family: monospace;font-weight: bold;display: inline-block;line-height: 1.2em;}#sk-container-id-1 div.sk-label-container {text-align: center;}#sk-container-id-1 div.sk-container {/* jupyter's `normalize.less` sets `[hidden] { display: none; }` but bootstrap.min.css set `[hidden] { display: none !important; }` so we also need the `!important` here to be able to override the default hidden behavior on the sphinx rendered scikit-learn.org. See: https://github.com/scikit-learn/scikit-learn/issues/21755 */display: inline-block !important;position: relative;}#sk-container-id-1 div.sk-text-repr-fallback {display: none;}</style><div id=\"sk-container-id-1\" class=\"sk-top-container\"><div class=\"sk-text-repr-fallback\"><pre>Pipeline(steps=[(&#x27;clf&#x27;,\n",
       "                 DecisionTreeClassifier(max_depth=10, min_samples_split=10))])</pre><b>In a Jupyter environment, please rerun this cell to show the HTML representation or trust the notebook. <br />On GitHub, the HTML representation is unable to render, please try loading this page with nbviewer.org.</b></div><div class=\"sk-container\" hidden><div class=\"sk-item sk-dashed-wrapped\"><div class=\"sk-label-container\"><div class=\"sk-label sk-toggleable\"><input class=\"sk-toggleable__control sk-hidden--visually\" id=\"sk-estimator-id-1\" type=\"checkbox\" ><label for=\"sk-estimator-id-1\" class=\"sk-toggleable__label sk-toggleable__label-arrow\">Pipeline</label><div class=\"sk-toggleable__content\"><pre>Pipeline(steps=[(&#x27;clf&#x27;,\n",
       "                 DecisionTreeClassifier(max_depth=10, min_samples_split=10))])</pre></div></div></div><div class=\"sk-serial\"><div class=\"sk-item\"><div class=\"sk-estimator sk-toggleable\"><input class=\"sk-toggleable__control sk-hidden--visually\" id=\"sk-estimator-id-2\" type=\"checkbox\" ><label for=\"sk-estimator-id-2\" class=\"sk-toggleable__label sk-toggleable__label-arrow\">DecisionTreeClassifier</label><div class=\"sk-toggleable__content\"><pre>DecisionTreeClassifier(max_depth=10, min_samples_split=10)</pre></div></div></div></div></div></div></div>"
      ],
      "text/plain": [
       "Pipeline(steps=[('clf',\n",
       "                 DecisionTreeClassifier(max_depth=10, min_samples_split=10))])"
      ]
     },
     "execution_count": 56,
     "metadata": {},
     "output_type": "execute_result"
    }
   ],
   "source": [
    "best_model = models[best_model_name]\n",
    "best_model.fit(x, y)"
   ]
  },
  {
   "cell_type": "code",
   "execution_count": 57,
   "id": "908f62cd",
   "metadata": {
    "execution": {
     "iopub.execute_input": "2024-08-17T07:22:57.001056Z",
     "iopub.status.busy": "2024-08-17T07:22:57.000717Z",
     "iopub.status.idle": "2024-08-17T07:22:57.007546Z",
     "shell.execute_reply": "2024-08-17T07:22:57.006505Z"
    },
    "papermill": {
     "duration": 0.032559,
     "end_time": "2024-08-17T07:22:57.009565",
     "exception": false,
     "start_time": "2024-08-17T07:22:56.977006",
     "status": "completed"
    },
    "tags": []
   },
   "outputs": [
    {
     "name": "stdout",
     "output_type": "stream",
     "text": [
      "Best model saved as Decision_Tree_best_model.pkl\n"
     ]
    }
   ],
   "source": [
    "import pickle\n",
    "pickle_file = f\"{best_model_name}_best_model.pkl\"\n",
    "with open(pickle_file, 'wb') as file:\n",
    "    pickle.dump(best_model, file)\n",
    "\n",
    "print(f\"Best model saved as {pickle_file}\")\n",
    "\n",
    "# To load the model later\n",
    "with open(pickle_file, 'rb') as file:\n",
    "    loaded_model = pickle.load(file)"
   ]
  },
  {
   "cell_type": "code",
   "execution_count": 58,
   "id": "8a827720",
   "metadata": {
    "execution": {
     "iopub.execute_input": "2024-08-17T07:22:57.056815Z",
     "iopub.status.busy": "2024-08-17T07:22:57.056519Z",
     "iopub.status.idle": "2024-08-17T07:22:57.065475Z",
     "shell.execute_reply": "2024-08-17T07:22:57.064414Z"
    },
    "papermill": {
     "duration": 0.035121,
     "end_time": "2024-08-17T07:22:57.067443",
     "exception": false,
     "start_time": "2024-08-17T07:22:57.032322",
     "status": "completed"
    },
    "tags": []
   },
   "outputs": [
    {
     "name": "stderr",
     "output_type": "stream",
     "text": [
      "/opt/conda/lib/python3.10/site-packages/sklearn/base.py:439: UserWarning: X does not have valid feature names, but DecisionTreeClassifier was fitted with feature names\n",
      "  warnings.warn(\n"
     ]
    },
    {
     "data": {
      "text/plain": [
       "array([1])"
      ]
     },
     "execution_count": 58,
     "metadata": {},
     "output_type": "execute_result"
    }
   ],
   "source": [
    "loaded_model.predict([[1, 1, 1, 1, 1, 1, 1, 1, 1]])"
   ]
  },
  {
   "cell_type": "code",
   "execution_count": 59,
   "id": "3fc4695c",
   "metadata": {
    "execution": {
     "iopub.execute_input": "2024-08-17T07:22:57.115068Z",
     "iopub.status.busy": "2024-08-17T07:22:57.114737Z",
     "iopub.status.idle": "2024-08-17T07:22:57.121126Z",
     "shell.execute_reply": "2024-08-17T07:22:57.120157Z"
    },
    "papermill": {
     "duration": 0.032237,
     "end_time": "2024-08-17T07:22:57.123232",
     "exception": false,
     "start_time": "2024-08-17T07:22:57.090995",
     "status": "completed"
    },
    "tags": []
   },
   "outputs": [],
   "source": [
    "y_pred = loaded_model.predict(x_test)"
   ]
  },
  {
   "cell_type": "code",
   "execution_count": 60,
   "id": "def28a03",
   "metadata": {
    "execution": {
     "iopub.execute_input": "2024-08-17T07:22:57.172480Z",
     "iopub.status.busy": "2024-08-17T07:22:57.172216Z",
     "iopub.status.idle": "2024-08-17T07:22:57.179221Z",
     "shell.execute_reply": "2024-08-17T07:22:57.178310Z"
    },
    "papermill": {
     "duration": 0.033057,
     "end_time": "2024-08-17T07:22:57.181214",
     "exception": false,
     "start_time": "2024-08-17T07:22:57.148157",
     "status": "completed"
    },
    "tags": []
   },
   "outputs": [
    {
     "data": {
      "text/plain": [
       "0.503"
      ]
     },
     "execution_count": 60,
     "metadata": {},
     "output_type": "execute_result"
    }
   ],
   "source": [
    "accuracy_score(y_test, y_pred)"
   ]
  },
  {
   "cell_type": "code",
   "execution_count": 61,
   "id": "41b4752b",
   "metadata": {
    "execution": {
     "iopub.execute_input": "2024-08-17T07:22:57.228192Z",
     "iopub.status.busy": "2024-08-17T07:22:57.227935Z",
     "iopub.status.idle": "2024-08-17T07:22:57.234422Z",
     "shell.execute_reply": "2024-08-17T07:22:57.233609Z"
    },
    "papermill": {
     "duration": 0.032073,
     "end_time": "2024-08-17T07:22:57.236345",
     "exception": false,
     "start_time": "2024-08-17T07:22:57.204272",
     "status": "completed"
    },
    "tags": []
   },
   "outputs": [
    {
     "data": {
      "text/plain": [
       "{'memory': None,\n",
       " 'steps': [('clf',\n",
       "   DecisionTreeClassifier(max_depth=10, min_samples_split=10))],\n",
       " 'verbose': False,\n",
       " 'clf': DecisionTreeClassifier(max_depth=10, min_samples_split=10),\n",
       " 'clf__ccp_alpha': 0.0,\n",
       " 'clf__class_weight': None,\n",
       " 'clf__criterion': 'gini',\n",
       " 'clf__max_depth': 10,\n",
       " 'clf__max_features': None,\n",
       " 'clf__max_leaf_nodes': None,\n",
       " 'clf__min_impurity_decrease': 0.0,\n",
       " 'clf__min_samples_leaf': 1,\n",
       " 'clf__min_samples_split': 10,\n",
       " 'clf__min_weight_fraction_leaf': 0.0,\n",
       " 'clf__random_state': None,\n",
       " 'clf__splitter': 'best'}"
      ]
     },
     "execution_count": 61,
     "metadata": {},
     "output_type": "execute_result"
    }
   ],
   "source": [
    "best_model.get_params()"
   ]
  },
  {
   "cell_type": "code",
   "execution_count": 62,
   "id": "d6b03fe9",
   "metadata": {
    "execution": {
     "iopub.execute_input": "2024-08-17T07:22:57.283551Z",
     "iopub.status.busy": "2024-08-17T07:22:57.283266Z",
     "iopub.status.idle": "2024-08-17T07:22:57.290470Z",
     "shell.execute_reply": "2024-08-17T07:22:57.289661Z"
    },
    "papermill": {
     "duration": 0.033182,
     "end_time": "2024-08-17T07:22:57.292398",
     "exception": false,
     "start_time": "2024-08-17T07:22:57.259216",
     "status": "completed"
    },
    "tags": []
   },
   "outputs": [
    {
     "data": {
      "text/plain": [
       "{'memory': None,\n",
       " 'steps': [('clf',\n",
       "   DecisionTreeClassifier(max_depth=10, min_samples_split=10))],\n",
       " 'verbose': False,\n",
       " 'clf': DecisionTreeClassifier(max_depth=10, min_samples_split=10),\n",
       " 'clf__ccp_alpha': 0.0,\n",
       " 'clf__class_weight': None,\n",
       " 'clf__criterion': 'gini',\n",
       " 'clf__max_depth': 10,\n",
       " 'clf__max_features': None,\n",
       " 'clf__max_leaf_nodes': None,\n",
       " 'clf__min_impurity_decrease': 0.0,\n",
       " 'clf__min_samples_leaf': 1,\n",
       " 'clf__min_samples_split': 10,\n",
       " 'clf__min_weight_fraction_leaf': 0.0,\n",
       " 'clf__random_state': None,\n",
       " 'clf__splitter': 'best'}"
      ]
     },
     "execution_count": 62,
     "metadata": {},
     "output_type": "execute_result"
    }
   ],
   "source": [
    "loaded_model.get_params()"
   ]
  },
  {
   "cell_type": "code",
   "execution_count": null,
   "id": "57a8d0e5",
   "metadata": {
    "papermill": {
     "duration": 0.02326,
     "end_time": "2024-08-17T07:22:57.338405",
     "exception": false,
     "start_time": "2024-08-17T07:22:57.315145",
     "status": "completed"
    },
    "tags": []
   },
   "outputs": [],
   "source": []
  }
 ],
 "metadata": {
  "kaggle": {
   "accelerator": "gpu",
   "dataSources": [
    {
     "datasetId": 1486586,
     "sourceId": 2456026,
     "sourceType": "datasetVersion"
    },
    {
     "datasetId": 5547593,
     "sourceId": 9178840,
     "sourceType": "datasetVersion"
    }
   ],
   "dockerImageVersionId": 30746,
   "isGpuEnabled": true,
   "isInternetEnabled": true,
   "language": "python",
   "sourceType": "notebook"
  },
  "kernelspec": {
   "display_name": "Python 3",
   "language": "python",
   "name": "python3"
  },
  "language_info": {
   "codemirror_mode": {
    "name": "ipython",
    "version": 3
   },
   "file_extension": ".py",
   "mimetype": "text/x-python",
   "name": "python",
   "nbconvert_exporter": "python",
   "pygments_lexer": "ipython3",
   "version": "3.10.13"
  },
  "papermill": {
   "default_parameters": {},
   "duration": 57.528712,
   "end_time": "2024-08-17T07:22:57.881185",
   "environment_variables": {},
   "exception": null,
   "input_path": "__notebook__.ipynb",
   "output_path": "__notebook__.ipynb",
   "parameters": {},
   "start_time": "2024-08-17T07:22:00.352473",
   "version": "2.5.0"
  }
 },
 "nbformat": 4,
 "nbformat_minor": 5
}
